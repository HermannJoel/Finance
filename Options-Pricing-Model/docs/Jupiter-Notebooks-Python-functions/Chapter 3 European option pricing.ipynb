{
 "cells": [
  {
   "cell_type": "code",
   "execution_count": 1,
   "metadata": {},
   "outputs": [],
   "source": [
    "# import all stuff we will need\n",
    "import numpy as np\n",
    "import pandas as pd\n",
    "import scipy.io as sio\n",
    "import matplotlib.pyplot as plt\n",
    "import scipy.stats as st\n",
    "import statsmodels.datasets\n",
    "\n",
    "from numpy.random import randn\n",
    "from scipy.stats import norm\n",
    "from scipy.optimize import fmin_slsqp\n",
    "from scipy.optimize import fsolve\n",
    "from scipy.interpolate import UnivariateSpline\n",
    "from call_put_bs import call_put_bs\n",
    "from min_max import min_max\n",
    "from implied_vola import implied_vola\n",
    "from mle_tlocation import mle_tlocation\n",
    "from scipy.special import gamma\n",
    "from yf import yf"
   ]
  },
  {
   "cell_type": "markdown",
   "metadata": {},
   "source": [
    "# 3.1 The principles of option pricing in a nut shell"
   ]
  },
  {
   "cell_type": "markdown",
   "metadata": {},
   "source": [
    "We proceed with binomial trees from section 2.1 and use them to price options. By constructing a <span style=\"color:red\">risk-free</span> portfolio (long one share of underlying, short $\\delta$ call options) we learn that an option price $v_{0,0}$ is a discounted expectation with respect to a so-called martingale measure $\\mathbb{Q}$, i.e.,\n",
    "\n",
    "\\begin{equation*}\n",
    "v_{0,0}=e^{-rT}\\mathbb{E}^{\\mathbb{Q}}\\big[g(S_m)\\mid s_{0,0}=s\\big]\\;.\n",
    "\\end{equation*}\n",
    "\n",
    "Here, $g$ is the payoff function of the option and $S_m$ is the stock price at maturity. $S_m$ is a discrete random variable; by construction, the distribution of $S_m$ with respect to the measure $\\mathbb{Q}$ is\n",
    "\n",
    "\\begin{equation*}\n",
    "\\mathbb{Q}[S_m=s_{i,m}]=\\binom{m}{i}{p^\\ast}^{i}{q^\\ast}^{m-i},\\quad i=0,\\ldots,m\n",
    "\\end{equation*}\n",
    "\n",
    "with \n",
    "\n",
    "\\begin{equation*}\n",
    "p^\\ast := \\frac{e^{r\\Delta t}-d}{u-d}, \\quad q^\\ast := \\frac{u-e^{r\\Delta t}}{u-d}\n",
    "\\end{equation*}\n",
    "\n",
    "the (risk-neutral) probability of a up- and down movement respectively of the stock in one period. Hence, the above expectation becomes\n",
    "\n",
    "\\begin{equation*}\n",
    "v_{0,0}=e^{-rT}\\mathbb{E}^{\\mathbb{Q}}\\big[g(S_m)\\mid s_{0,0}=s\\big]=e^{-rT}\\sum_{i=0}^{m}\\mathbb{Q}[S_m=s_{i,m}]g(s_{i,m})\\;.\n",
    "\\end{equation*}\n",
    "\n",
    "Note that the above equation is a <span style=\"color:red\">discrete</span> version of the Black-Scholes formula. Indeed, for call option with $g(x)=\\max\\{x-X,0\\}$ for example we find the above expectation to be\n",
    "\n",
    "\\begin{equation*}\n",
    "v_{0,0}=sB_{m,\\widehat{p}}(i^\\ast)-Xe^{-rT}B_{m,p^\\ast}(i^\\ast)\\;,\n",
    "\\end{equation*}\n",
    "\n",
    "where $s=s_{0,0}$ is the current stock price and $B_{n,p}(x)$ denotes the complementary distribution function of the binomial distribution with parameters $n$ and $p$.\n",
    "\n",
    "As we have seen in section 2.1, the discrete random variable $S_m$ converges (in distribution) to the continuous random variable $S_T$ (as the number of periods $m$ tends to infinity) and the price of the option converges to \n",
    "\n",
    "\\begin{equation*}\n",
    "V(s,0)=e^{-rT}\\mathbb{E}^{\\mathbb{Q}}\\big[g(S_T)\\mid S_0=s\\big]=e^{-rT}\\int_0^\\infty g(x)f_S(x){\\rm d}x\\;,\n",
    "\\end{equation*}\n",
    "\n",
    "where $f_S(x)$ is the (risk-neutral) probability density function of the random variable $S_T$."
   ]
  },
  {
   "cell_type": "markdown",
   "metadata": {},
   "source": [
    "# 3.2 The formula of Black and Scholes"
   ]
  },
  {
   "cell_type": "markdown",
   "metadata": {},
   "source": [
    "In the model of Black and Scholes, the risk-neutral probability density function of $S_T$ starting in $s=S_t$ is\n",
    "\n",
    "\\begin{equation*}\n",
    "f_S(x)=\\frac{1}{\\sqrt{2\\pi\\sigma_S^2}x}e^{-\\frac{(\\ln(x/s)-\\mu_S)^2}{2\\sigma^2_S}}\\;,\n",
    "\\end{equation*}\n",
    "\n",
    "with \n",
    "\n",
    "\\begin{equation*}\n",
    "\\mu_S=(r-q-\\frac{1}{2}\\sigma^2)(T-t), \\quad \\sigma_S=\\sigma\\sqrt{T-t}\\;.\n",
    "\\end{equation*}\n",
    "\n",
    "Equivalently, the log-return $R^c_{t,T}=\\ln(S_T/S_t)\\sim\\mathcal{N}(\\mu_S,\\sigma_S^2)$ is normal. Hence, by writing\n",
    "\n",
    "\\begin{equation*}\n",
    "S_T=se^{R^c_{t,T}}\n",
    "\\end{equation*}\n",
    "\n",
    "the above integral becomes\n",
    "\n",
    "\\begin{equation*}\n",
    "V(s,0)=e^{-rT}\\int_0^\\infty g(x)f_S(x){\\rm d}x=e^{-rT}\\int_{-\\infty}^\\infty g(se^x)\\phi_{\\mu_S,\\sigma_S}(x){\\rm d}x\\;.\n",
    "\\end{equation*}\n",
    "\n",
    "Here, $\\phi_{\\mu,\\sigma}$ denotes the density of the normal distribution with mean $\\mu$ and standard deviation $\\sigma$. By <span style=\"color:red\">standardising</span> \n",
    "\n",
    "\\begin{equation*}\n",
    "z=\\frac{x-\\mu_S}{\\sigma_S}\n",
    "\\end{equation*}\n",
    "\n",
    "we can calculate the value of <span style=\"color:red\">any</span> european option with payoff $g$ in the Black-Scholes model by\n",
    "\n",
    "\\begin{equation*}\n",
    "V(s,0)=e^{-rT}\\int_{-\\infty}^\\infty g(se^{\\sigma_Sz+\\mu_S})\\phi(z){\\rm d}z\\;,\\quad \\phi(z)=\\frac{1}{\\sqrt{2\\pi}}e^{-\\frac{1}{2}z^2}\\;.\n",
    "\\end{equation*}\n",
    "\n",
    "Evaluating this integral for a call or a put option with payoff $g(x)=\\max\\{\\omega(x-X),0\\}$ ($\\omega=1$ for a call, $\\omega=-1$ for a put), we obtain the famous <span style=\"color:red\">Black-Scholes formula</span>\n",
    "\n",
    "\\begin{equation*}\n",
    "V(s,t;X,T,\\sigma,r,q,\\omega)=\\omega\\big(se^{-q(T-t)}N(\\omega d_1)-Xe^{-r(T-t)}N(\\omega d_2)\\big)\\;.\n",
    "\\end{equation*}\n",
    "\n",
    "\n",
    "The formula of Black and Scholes is a so-called closed-form solution to the (call) option pricing problem and is only valid under the assumption that the price of the underlying follows a geometric Brownian motion (or equivalently, that the log-returns of the underlying are normal). Naturally, one has to extend the pricing problem in two directions. \n",
    "\n",
    "\n",
    "E$_1$) Can we still derive closed-form solutions to price other derivatives than European? An American option for example gives its holder the right to exercise not only at maturity, but at any time during the life time $]0,T]$ of the option. The payoff of an Asian fixed strike option on the other hand depends not just on the value $S_T$ of the underlying at maturity, but on the (discrete) average $A_T=\\sum_{j=1}^JS_{t_j}$ over predetermined dates $t_j\\in [0,T]$. For both examples (American, discrete fixed strike Asian) there are no closed form solutions such that we have to rely on numerical methods. Barrier options become worthless (or worth-full), if the underlying hits the barrier(s) during the life time of the option. For such options there exist formulas to find their price, but some of them are quit involved (this is in particular true for double barrier options), compare with chapter 4. At this stage, we could name many other types of options/derivatives for which there are no pricing formulas or for which the pricing formulas are too complicated to evaluate them directly (see the example below).  \n",
    "\n",
    "E$_2$) By now it is well accepted and demonstrated in many empirical studies that the Black-Scholes model is inappropriate to map real stock price/return data. In particular, the model of Black and Scholes assumes normally distributed log-returns, which is not observable in reality. Furthermore, the volatility $\\sigma>0$ is not constant (over time) as proposed by the model. Even worse, it seems that volatility itself is stochastic. In section 2.5 we will come back to the short comings of the Black-Scholes model. Due to this mis-modelling people suggested alternative models for the time evolution of stock prices $S_t$ in the sequel. Some of these models are mathematically very demanding and for a larger part of them there are no closed form solutions to the pricing problem, even not for plain vanillas. Again we have to dwell on numerical methods. \n",
    "\n",
    "### Example 3.2\n",
    "\n",
    "We look at an example to E$_1$). The following definition is taken from Heynen and Kat. A <span style=\"color:red\">floating strike lookback</span> option grants its holder the right to buy at the lowest price (when it is a call) or to sell at the highest price (when it is a put) recorded during the lookback period, i.e., the period during which the underlying price is monitored. If the lookback period consists in a discrete set of dates $t_j$ with $0=t_0<t_1<\\ldots<t_J\\leq T$ the option is said to be discretely monitored. If we denote by $m_{t_0}^{t_J}$ the minimum \n",
    "\n",
    "\\begin{equation*}\n",
    "m_{t_0}^{t_J}=\\min\\{S_{t_0},S_{t_1},\\ldots,S_{t_J}\\}\\;,\n",
    "\\end{equation*}\n",
    "\n",
    "then the payoff of a call is $\\max\\{S_T-m_{t_0}^{t_J},0\\}$ and the value of a discretely monitored floating strike lookback call option is\n",
    "\n",
    "\\begin{equation*}\n",
    "V_{c,\\textrm{fls}}(s,m,t)=e^{-r(T-t)}\\mathbb{E}^\\mathbb{Q}\\big[\\max\\{S_T-m_{t_0}^{t_J},0\\}\\mid S_t=s,\\; m_{t_0}^t=m\\big]\\;.\n",
    "\\end{equation*}\n",
    "\n",
    "Similarly, the value of the corresponding put is \n",
    "\n",
    "\\begin{equation*}\n",
    "V_{p,\\textrm{fls}}(s,m,t)=e^{-r(T-t)}\\mathbb{E}^\\mathbb{Q}\\big[\\max\\{m_{t_0}^{t_J}-S_T,0\\}\\mid S_t=s,\\; m_{t_0}^t=m\\big]\\;;\n",
    "\\end{equation*}\n",
    "\n",
    "here, $m_{t_0}^{t_J}$ denotes the maximum of the prices. \n",
    "\n",
    "The fictitious product of chapter 1, which pays off the difference \n",
    "\n",
    "\\begin{equation*}\n",
    "g(S_{t_0},\\ldots,S_{t_J}):=\\max\\{S_{t_0},\\ldots,S_{t_J}\\}-\\min\\{S_{t_0},\\ldots,S_{t_J}\\}\\;,\n",
    "\\end{equation*}\n",
    "\n",
    "is a portfolio consisting in long one floating strike lookback call and long one floating strike lookback put (both with strike $S_0$), whence its value $V(s,0)$ at inception is\n",
    "\n",
    "\\begin{equation*}\n",
    "V(s,0)=V_{p,\\textrm{fls}}(s,s,0)+V_{c,\\textrm{fls}}(s,s,0)\\;.\n",
    "\\end{equation*}\n",
    "\n",
    "\n",
    "If we take the Black-Scholes model for $S_t$, then these expectations can be calculated analytically. For example, for a call there holds the formula\n",
    "\n",
    "\\begin{equation*}\n",
    "V_{c,\\textrm{fls}}(s,s,0)= s\\bigg(1-N(\\textbf{a};\\boldsymbol{\\rho}_1,J+1)-\\sum_{j=1}^Je^{r(t_j-T)}f_j\\bigg)-e^{-rT}s\\big(N(\\textbf{b};\\boldsymbol{\\rho}_2,J)-N(\\textbf{c};\\boldsymbol{\\rho}_3,J+1)\\big)\\;,\n",
    "\\end{equation*}\n",
    " \n",
    "where $N(\\textbf{x};\\boldsymbol{\\rho},d)$ denotes the cdf of the $d$-dimensional standard normal distribution with $d\\times d$-correlation matrix $\\boldsymbol{\\rho}$ evaluated at the point $\\textbf{x}=(x_1,\\ldots,x_d)$, i.e.,\n",
    "\n",
    "\\begin{equation*}\n",
    "N(\\textbf{x};\\boldsymbol{\\rho},d)=c_d\\int_{-\\infty}^{x_d}\\cdots\\int_{-\\infty}^{x_1}e^{-\\frac{1}{2}\\textbf{y}^\\top\\boldsymbol{\\rho}^{-1}\\textbf{y}}\\textrm{d}\\textbf{y}\\;.\n",
    "\\end{equation*}\n",
    "\n",
    "Typically, the number $J$ of observation dates is large; for the above product we have $J=252$ (equal to the number of business days per year). According to the above formula, we thus need to evaluate a $253$-dimensional integral numerically, since the cdf is not known in closed form. Evaluating high-dimensional integrals to a high precision within an acceptable computation time is very hard; the above pricing formula is of no practical relevance and we need other approximation methods. Here, we use Monte Carlo simulation (which we already did in chapter 1). This is rather simple in this current setting, however we need to be aware that the Monte Carlo price is only approximate.\n",
    "\n",
    "The function <span style=\"color:orange\">min_max.py</span> realises this."
   ]
  },
  {
   "cell_type": "code",
   "execution_count": 2,
   "metadata": {},
   "outputs": [
    {
     "name": "stdout",
     "output_type": "stream",
     "text": [
      "Help on function min_max in module min_max:\n",
      "\n",
      "min_max(s0, sigma, r, q, T, J, w1, w2, n)\n",
      "    Finds the value v of a financial product which pays off\n",
      "    \n",
      "    g = w_1*max(S_{t_0},...,S_{t_J}) - w_2*min(S_{t_0},...,S_{t_J})\n",
      "    \n",
      "    at maturity T = t_J. w_1 >= w_2 are positive weights which don't need \n",
      "    to sum up to one. The S_{t_i} are daily closing prices of the underlying\n",
      "    at the J+1 observation dates t_0,t_1,...,t_J. We assume that the time \n",
      "    period t_{j+1}-t_j between two observation dates is the same for all j. \n",
      "    The underlying is modelled as a geometric Brownian motion \n",
      "    \n",
      "        dS_t = (r-q)*S_t*dt + sigma*S_tdW_t, S_0 = s0 \n",
      "        \n",
      "    of which n paths are generated (at t_i) to aproximate v.\n",
      "\n"
     ]
    }
   ],
   "source": [
    "help(min_max)"
   ]
  },
  {
   "cell_type": "markdown",
   "metadata": {},
   "source": [
    "The model- and contract parameters are from chapter 1. In particular $s_0=286.10$, $T=358/360$, $J=252$, $\\sigma=0.0753$, $r=-0.0063$ and $q=0.0310$. Thus"
   ]
  },
  {
   "cell_type": "code",
   "execution_count": 3,
   "metadata": {},
   "outputs": [
    {
     "data": {
      "text/plain": [
       "33.72543747880139"
      ]
     },
     "execution_count": 3,
     "metadata": {},
     "output_type": "execute_result"
    }
   ],
   "source": [
    "s0 = 286.1; T = 358/360; J = 252; sigma = 0.0753; r = -0.0063; q = 0.0310; # model- and contract parameters\n",
    "min_max(s0,sigma,r,q,T,J,1,1,10**6)"
   ]
  },
  {
   "cell_type": "markdown",
   "metadata": {},
   "source": [
    "# 3.3 Shortcomings of the model of Black and Scholes"
   ]
  },
  {
   "attachments": {
    "image.png": {
     "image/png": "[encoded data removed]"
    }
   },
   "cell_type": "markdown",
   "metadata": {},
   "source": [
    "We are coming back to the model of Black and Scholes and to its in E$_2$) mentioned mismodelling of the underlying, respectively. As already said, in the model of Back and Scholes the realised log-returns are normally distributed. We may test this assumption using real data. To do so, in the figure below we exemplarily have a look on the DAX over the time period $26/11/1990$ to $4/7/2012$ and plot a histogram of the daily log-returns $\\ln(s_{t+\\Delta t}/s_t)$ for $\\Delta t=1/252$ ($s_t$ is the daily closing price of the DAX  at time $t$).\n",
    "\n",
    "![image.png](attachment:image.png)\n",
    "\n",
    "In the same graph, we also plot the probability density function \n",
    "\n",
    "\\begin{equation*}\n",
    "\\phi_{\\mu,\\sigma}(x):=\\frac{1}{\\sqrt{2\\pi\\sigma^2}}e^{-\\frac{(x-\\mu)^2}{2\\sigma^2}}\n",
    "\\end{equation*}\n",
    "\n",
    "of the normal distribution $R^c_{t,t+\\Delta t}\\sim\\mathcal{N}(\\mu,\\sigma^2)$ with $\\mu=\\overline{r}\\doteq 0.000276$ and $\\sigma=s_r\\doteq 0.014737$ given by the (usual) point estimators for (daily) mean and (daily) standard deviation. We observe that the theoretical distribution (the Black-Scholes model) does not fit the empirical distribution well. In particular, the empirical distribution has heavier tails than the theoretical one which means that the model underestimates the probability of having large absolute returns (large deviations from the mean).\n",
    "\n",
    "In this regard, the <span style=\"color:red\">Student t</span> distribution does a much better job. Besides the normal distribution, we estimate and plot in the above figure also the probability density function $f_{\\mu,\\sigma,\\nu}$ of the Student t distribution given by  \n",
    "\n",
    "\\begin{equation}\\label{eq:density_student_t}\n",
    "f_{\\mu,\\sigma,\\nu}(x)=c_\\nu\\frac{1}{\\sqrt{\\nu\\pi}\\sigma}\\bigg(1+\\frac{1}{\\nu}\\big(\\frac{x-\\mu}{\\sigma}\\big)^2\\bigg)^{-(\\nu+1)/2}\\;.\n",
    "\\end{equation}\n",
    "\n",
    "The above time-series of the DAX log-returns has the estimated parameter values $\\mu\\doteq 0.00065$, $ \\sigma\\doteq 0.00983$ and $\\nu \\doteq 3.2907$; see the technical note on how to get these values using <span style=\"color:red\">maximum likelihood</span> estimation.\n",
    "\n",
    "Now we consider volatility. We may check the assumption of constant volatility (with respect to strike and time-to-maturity) as follows. We look at market prices \n",
    "\n",
    "\\begin{equation*}\n",
    "V_1^{\\rm M},\\;\\;V_2^{\\rm M},\\;\\;\\ldots, \\;\\;V_\\nu^{\\rm M}\n",
    "\\end{equation*}\n",
    "\n",
    "(the superscript ${\\rm M}$ stands for market) of  $\\nu$ traded options on the same underlying with different strikes \n",
    "\n",
    "\\begin{equation*}\n",
    "X_1,\\;\\;X_2,\\;\\;\\ldots, \\;\\;X_\\nu\n",
    "\\end{equation*}\n",
    "\n",
    "but the same time-to-maturity $T-t$. Since up to the volatility all the model parameters are known we may ask for the volatility $\\sigma_\\ell$  which, inserted into the formula of Black and Scholes, yields the market value $V_\\ell^{\\rm M}$ of the $\\ell$-th option in the data set. In other words, for each option in the data set we are looking for $\\sigma_\\ell$ such that  \n",
    "\n",
    "\\begin{equation*}\n",
    "V(s,t;X_\\ell,T,\\sigma_\\ell,r,q,\\omega)=V_\\ell^{\\rm M}\\;.\n",
    "\\end{equation*}\n",
    "\n",
    "The volatility satisfying this equation is called <span style=\"color:red\">implied volatility</span>. Mathematically, we have to find the root of the function\n",
    "\n",
    "\\begin{equation*}\n",
    "f(\\sigma):=V(s,t;X,T,\\sigma,r,q,\\omega)-V^{\\rm M}\n",
    "\\end{equation*}\n",
    "\n",
    "where $V(s,t;X,T,\\sigma,r,q,\\omega)$ indicates the Black-Scholes formula of a call ($\\omega=1$) or put ($\\omega=-1$) and where $V^{\\rm M}$ is the market price of the option. Note that we are not able to solve $f(\\sigma)=0$ analytically, such that we have to rely on a numerical procedure. We apply the so-called <span style=\"color:red\">Newton method</span> to solve an equation of the form \n",
    "\n",
    "\n",
    "$$f(x)=0.$$ \n",
    "\n",
    "\n",
    "Let $x^\\ast$ be the (unique) root of $f$. Since we do not know the intersection $(x^\\ast,0)$ of the graph of $f$ and  the $x$-axis, we replace the graph $f$ by the tangent $t_0$ at a yet to be determined point $P_0(x_0,f(x_0))$ and calculate the intersetion of this tangent and the $x$-axis, compare with the figure below.\n",
    "\n",
    "<img src=\"graph_newton_method.JPG\" alt=\"Drawing\" style=\"width: 300px;\"/>\n",
    "\n",
    "\n",
    "It is easy to calculate the root of $t_0$, since we just need to solve a linear equation. Indeed, the equation of the tangent $t_0$ is \n",
    "\n",
    "\\begin{equation*}\n",
    "t_0(x)=f'(x_0)(x-x_0)+f(x_0)\\;,\n",
    "\\end{equation*}\n",
    "\n",
    "its root (we call it $x_1$) solves $t_0(x)=0$, whence\n",
    "\n",
    "\\begin{equation*}\n",
    "f'(x_0)(x-x_0)+f(x_0)=0\\Rightarrow x=:x_1=x_0-\\frac{f(x_0)}{f'(x_0)}\\;.\n",
    "\\end{equation*}\n",
    "\n",
    "Obviously, $x_1$ is not equal to $x^\\ast$, but hopefully closer to it than $x_0$. If $x_0$ is an approximation to $x^\\ast$, then $x_1$ is a better one and it becomes clear how to obtain even better approximations. We just look at the tangent $t_{1}$ at the point $P_{1}(x_{1},f(x_{1}))$ and calculate its root (which we call $x_2$) by \n",
    "\n",
    "\\begin{equation*}\n",
    "f'(x_1)(x-x_1)+f(x_1)=0\\Rightarrow x=:x_2=x_1-\\frac{f(x_1)}{f'(x_1)}\\;.\n",
    "\\end{equation*}\n",
    "\n",
    "Then we proceed in the same manner. Using $x_2$, we obtain $x_3$, out of this then $x_4$ and so on. This leads to Newton's method to solve an equation of the form $f(x)=0$. Choose an initial guess $x_0$ and then successively build the sequence \n",
    "\n",
    "\\begin{equation*}\n",
    "(x_0,x_1,x_2,x_3,x_4,\\ldots)\n",
    "\\end{equation*}\n",
    "\n",
    "of approximations to $x^\\ast$ by \n",
    "\n",
    "\\begin{equation*}\n",
    "x_{k+1}=x_k-\\frac{f(x_k)}{f'(x_k)}\\;,\\quad k=0,1,2,3\\ldots.\n",
    "\\end{equation*}\n",
    "\n",
    "If the function $f$ satisfies certain conditions then the sequence of approximations converges to $x^\\ast$, i.e., \n",
    "\n",
    "\\begin{equation*}\n",
    "\\lim_{k\\rightarrow \\infty} x_k=x^\\ast\\;.\n",
    "\\end{equation*}\n",
    "\n",
    "In practice, we obviously only can calculate a finite sequence $(x_0,x_1,x_2,\\ldots, x_n)$ and thus can not obtain  $x^\\ast$ exactly (which is however not necessary). How large $n$ should be depends on how close on $x^\\ast$ the approximation $x_n$ should be. For example, we might stop the calculation of a new approximation whenever the distance $|x_{k+1}-x_k|$ between to consecutive approximations becomes smaller than some predefined tolerance $\\textrm{tol}$.\n",
    "\n",
    "To find the implied volatility with Newton's method, we have to state the derivative of \n",
    "$f(\\sigma)=V(s,t;X,T,\\sigma,r,q,\\omega)-V^{\\rm M}$ with repsect to $\\sigma$. This derivative is called 'vega' and given by \n",
    "\n",
    "\n",
    "\\begin{equation*}\n",
    "f'(\\sigma)=\\partial_\\sigma V(s,t;X,T,\\sigma,r,q,\\omega)=se^{-q(T-t)}\\sqrt{T-t}\\phi(d_1)\\;.\n",
    "\\end{equation*}\n",
    "\n",
    "Note that vega is the same for call and put options. \n",
    "\n",
    "We realise the calculation of the implied volatiltiy using Newton's method in the function <span style=\"color:orange\">implied_vola.py</span>.    "
   ]
  },
  {
   "cell_type": "markdown",
   "metadata": {},
   "source": [
    "### Example 3.3\n",
    "\n",
    "We calculate the implied volatility of the call option with strike $X = 76$ and market price $V^{\\rm M} = 6.23$. Since there holds $s = 77.45$, $T − t = 99/360$, $r = -0.0081$ and $q = 0$ we find"
   ]
  },
  {
   "cell_type": "code",
   "execution_count": 4,
   "metadata": {
    "scrolled": true
   },
   "outputs": [
    {
     "name": "stdout",
     "output_type": "stream",
     "text": [
      "Help on function implied_vola in module implied_vola:\n",
      "\n",
      "implied_vola(VM, s, X, T, r, q, omega, init)\n",
      "    Gives the implied volatility of a call (omega = 1) or put (omega = -1)\n",
      "    option with market price VM, strike X and maturity T.\n",
      "    The price of the underlying is s; r and q are cc risk free and cc \n",
      "    dividend yield, respectively.\n",
      "\n"
     ]
    },
    {
     "data": {
      "text/plain": [
       "0.3468833779533675"
      ]
     },
     "execution_count": 4,
     "metadata": {},
     "output_type": "execute_result"
    }
   ],
   "source": [
    "help(implied_vola)\n",
    "s = 77.45; # the price of the underlying\n",
    "T = yf((11,9,2019),[(20,12,2019)])[0]; r = -0.0081; q = 0; # time-to-maturity, cc risk-free\n",
    "implied_vola(6.23,s,76,T,r,q,1,0.5)"
   ]
  },
  {
   "cell_type": "markdown",
   "metadata": {},
   "source": [
    "Now repeat the above for all options under consideration. Here is the data"
   ]
  },
  {
   "cell_type": "code",
   "execution_count": 5,
   "metadata": {},
   "outputs": [
    {
     "data": {
      "text/html": [
       "<div>\n",
       "<style scoped>\n",
       "    .dataframe tbody tr th:only-of-type {\n",
       "        vertical-align: middle;\n",
       "    }\n",
       "\n",
       "    .dataframe tbody tr th {\n",
       "        vertical-align: top;\n",
       "    }\n",
       "\n",
       "    .dataframe thead th {\n",
       "        text-align: right;\n",
       "    }\n",
       "</style>\n",
       "<table border=\"1\" class=\"dataframe\">\n",
       "  <thead>\n",
       "    <tr style=\"text-align: right;\">\n",
       "      <th></th>\n",
       "      <th>Strike price</th>\n",
       "      <th>Version number</th>\n",
       "      <th>Opening price</th>\n",
       "      <th>Daily high</th>\n",
       "      <th>Daily low</th>\n",
       "      <th>Last price</th>\n",
       "      <th>Daily settlem. price</th>\n",
       "      <th>Traded contracts</th>\n",
       "      <th>Open interest</th>\n",
       "      <th>Open interest (adj.)</th>\n",
       "    </tr>\n",
       "  </thead>\n",
       "  <tbody>\n",
       "    <tr>\n",
       "      <th>0</th>\n",
       "      <td>0.01</td>\n",
       "      <td>0.0</td>\n",
       "      <td>0.0</td>\n",
       "      <td>0.0</td>\n",
       "      <td>0.0</td>\n",
       "      <td>0.0</td>\n",
       "      <td>77.44</td>\n",
       "      <td>0</td>\n",
       "      <td>0</td>\n",
       "      <td>0</td>\n",
       "    </tr>\n",
       "    <tr>\n",
       "      <th>1</th>\n",
       "      <td>48.00</td>\n",
       "      <td>0.0</td>\n",
       "      <td>0.0</td>\n",
       "      <td>0.0</td>\n",
       "      <td>0.0</td>\n",
       "      <td>0.0</td>\n",
       "      <td>29.57</td>\n",
       "      <td>0</td>\n",
       "      <td>0</td>\n",
       "      <td>0</td>\n",
       "    </tr>\n",
       "    <tr>\n",
       "      <th>2</th>\n",
       "      <td>50.00</td>\n",
       "      <td>0.0</td>\n",
       "      <td>0.0</td>\n",
       "      <td>0.0</td>\n",
       "      <td>0.0</td>\n",
       "      <td>0.0</td>\n",
       "      <td>27.62</td>\n",
       "      <td>0</td>\n",
       "      <td>0</td>\n",
       "      <td>0</td>\n",
       "    </tr>\n",
       "    <tr>\n",
       "      <th>3</th>\n",
       "      <td>52.00</td>\n",
       "      <td>0.0</td>\n",
       "      <td>0.0</td>\n",
       "      <td>0.0</td>\n",
       "      <td>0.0</td>\n",
       "      <td>0.0</td>\n",
       "      <td>25.67</td>\n",
       "      <td>0</td>\n",
       "      <td>0</td>\n",
       "      <td>0</td>\n",
       "    </tr>\n",
       "    <tr>\n",
       "      <th>4</th>\n",
       "      <td>56.00</td>\n",
       "      <td>0.0</td>\n",
       "      <td>0.0</td>\n",
       "      <td>0.0</td>\n",
       "      <td>0.0</td>\n",
       "      <td>0.0</td>\n",
       "      <td>21.88</td>\n",
       "      <td>0</td>\n",
       "      <td>0</td>\n",
       "      <td>0</td>\n",
       "    </tr>\n",
       "    <tr>\n",
       "      <th>5</th>\n",
       "      <td>60.00</td>\n",
       "      <td>0.0</td>\n",
       "      <td>0.0</td>\n",
       "      <td>0.0</td>\n",
       "      <td>0.0</td>\n",
       "      <td>0.0</td>\n",
       "      <td>18.21</td>\n",
       "      <td>0</td>\n",
       "      <td>0</td>\n",
       "      <td>0</td>\n",
       "    </tr>\n",
       "    <tr>\n",
       "      <th>6</th>\n",
       "      <td>64.00</td>\n",
       "      <td>0.0</td>\n",
       "      <td>0.0</td>\n",
       "      <td>0.0</td>\n",
       "      <td>0.0</td>\n",
       "      <td>0.0</td>\n",
       "      <td>14.73</td>\n",
       "      <td>0</td>\n",
       "      <td>0</td>\n",
       "      <td>0</td>\n",
       "    </tr>\n",
       "    <tr>\n",
       "      <th>7</th>\n",
       "      <td>68.00</td>\n",
       "      <td>0.0</td>\n",
       "      <td>0.0</td>\n",
       "      <td>0.0</td>\n",
       "      <td>0.0</td>\n",
       "      <td>0.0</td>\n",
       "      <td>11.51</td>\n",
       "      <td>0</td>\n",
       "      <td>4</td>\n",
       "      <td>4</td>\n",
       "    </tr>\n",
       "    <tr>\n",
       "      <th>8</th>\n",
       "      <td>72.00</td>\n",
       "      <td>0.0</td>\n",
       "      <td>0.0</td>\n",
       "      <td>0.0</td>\n",
       "      <td>0.0</td>\n",
       "      <td>0.0</td>\n",
       "      <td>8.66</td>\n",
       "      <td>0</td>\n",
       "      <td>0</td>\n",
       "      <td>0</td>\n",
       "    </tr>\n",
       "    <tr>\n",
       "      <th>9</th>\n",
       "      <td>76.00</td>\n",
       "      <td>0.0</td>\n",
       "      <td>0.0</td>\n",
       "      <td>0.0</td>\n",
       "      <td>0.0</td>\n",
       "      <td>0.0</td>\n",
       "      <td>6.23</td>\n",
       "      <td>0</td>\n",
       "      <td>0</td>\n",
       "      <td>0</td>\n",
       "    </tr>\n",
       "    <tr>\n",
       "      <th>10</th>\n",
       "      <td>80.00</td>\n",
       "      <td>0.0</td>\n",
       "      <td>0.0</td>\n",
       "      <td>0.0</td>\n",
       "      <td>0.0</td>\n",
       "      <td>0.0</td>\n",
       "      <td>4.31</td>\n",
       "      <td>0</td>\n",
       "      <td>0</td>\n",
       "      <td>0</td>\n",
       "    </tr>\n",
       "    <tr>\n",
       "      <th>11</th>\n",
       "      <td>84.00</td>\n",
       "      <td>0.0</td>\n",
       "      <td>0.0</td>\n",
       "      <td>0.0</td>\n",
       "      <td>0.0</td>\n",
       "      <td>0.0</td>\n",
       "      <td>2.93</td>\n",
       "      <td>0</td>\n",
       "      <td>0</td>\n",
       "      <td>0</td>\n",
       "    </tr>\n",
       "    <tr>\n",
       "      <th>12</th>\n",
       "      <td>88.00</td>\n",
       "      <td>0.0</td>\n",
       "      <td>0.0</td>\n",
       "      <td>0.0</td>\n",
       "      <td>0.0</td>\n",
       "      <td>0.0</td>\n",
       "      <td>1.97</td>\n",
       "      <td>0</td>\n",
       "      <td>0</td>\n",
       "      <td>0</td>\n",
       "    </tr>\n",
       "    <tr>\n",
       "      <th>13</th>\n",
       "      <td>92.00</td>\n",
       "      <td>0.0</td>\n",
       "      <td>0.0</td>\n",
       "      <td>0.0</td>\n",
       "      <td>0.0</td>\n",
       "      <td>0.0</td>\n",
       "      <td>1.33</td>\n",
       "      <td>0</td>\n",
       "      <td>0</td>\n",
       "      <td>0</td>\n",
       "    </tr>\n",
       "    <tr>\n",
       "      <th>14</th>\n",
       "      <td>96.00</td>\n",
       "      <td>0.0</td>\n",
       "      <td>0.0</td>\n",
       "      <td>0.0</td>\n",
       "      <td>0.0</td>\n",
       "      <td>0.0</td>\n",
       "      <td>0.90</td>\n",
       "      <td>0</td>\n",
       "      <td>0</td>\n",
       "      <td>0</td>\n",
       "    </tr>\n",
       "  </tbody>\n",
       "</table>\n",
       "</div>"
      ],
      "text/plain": [
       "   Strike price  Version number  Opening price  Daily high  Daily low  \\\n",
       "0          0.01             0.0            0.0         0.0        0.0   \n",
       "1         48.00             0.0            0.0         0.0        0.0   \n",
       "2         50.00             0.0            0.0         0.0        0.0   \n",
       "3         52.00             0.0            0.0         0.0        0.0   \n",
       "4         56.00             0.0            0.0         0.0        0.0   \n",
       "5         60.00             0.0            0.0         0.0        0.0   \n",
       "6         64.00             0.0            0.0         0.0        0.0   \n",
       "7         68.00             0.0            0.0         0.0        0.0   \n",
       "8         72.00             0.0            0.0         0.0        0.0   \n",
       "9         76.00             0.0            0.0         0.0        0.0   \n",
       "10        80.00             0.0            0.0         0.0        0.0   \n",
       "11        84.00             0.0            0.0         0.0        0.0   \n",
       "12        88.00             0.0            0.0         0.0        0.0   \n",
       "13        92.00             0.0            0.0         0.0        0.0   \n",
       "14        96.00             0.0            0.0         0.0        0.0   \n",
       "\n",
       "    Last price  Daily settlem. price  Traded contracts  Open interest  \\\n",
       "0          0.0                 77.44                 0              0   \n",
       "1          0.0                 29.57                 0              0   \n",
       "2          0.0                 27.62                 0              0   \n",
       "3          0.0                 25.67                 0              0   \n",
       "4          0.0                 21.88                 0              0   \n",
       "5          0.0                 18.21                 0              0   \n",
       "6          0.0                 14.73                 0              0   \n",
       "7          0.0                 11.51                 0              4   \n",
       "8          0.0                  8.66                 0              0   \n",
       "9          0.0                  6.23                 0              0   \n",
       "10         0.0                  4.31                 0              0   \n",
       "11         0.0                  2.93                 0              0   \n",
       "12         0.0                  1.97                 0              0   \n",
       "13         0.0                  1.33                 0              0   \n",
       "14         0.0                  0.90                 0              0   \n",
       "\n",
       "    Open interest (adj.)  \n",
       "0                      0  \n",
       "1                      0  \n",
       "2                      0  \n",
       "3                      0  \n",
       "4                      0  \n",
       "5                      0  \n",
       "6                      0  \n",
       "7                      4  \n",
       "8                      0  \n",
       "9                      0  \n",
       "10                     0  \n",
       "11                     0  \n",
       "12                     0  \n",
       "13                     0  \n",
       "14                     0  "
      ]
     },
     "execution_count": 5,
     "metadata": {},
     "output_type": "execute_result"
    }
   ],
   "source": [
    "# download option data for U-Blox: data as of September 11, 2019\n",
    "#df = pd.read_html('https://www.eurexchange.com/exchange-en/market-data/statistics/market-statistics-online/100!onlineStats?productGroupId=9772&productId=1597674&viewType=3&cp=Call&month=12&year=2019&busDate=20190911')\n",
    "# save the downloaded data\n",
    "#df = df[0]; df = df[:-1]; df.to_pickle(\"ublox\") \n",
    "\n",
    "# load the downloaded data\n",
    "df = pd.read_pickle(\"ublox\")\n",
    "df"
   ]
  },
  {
   "cell_type": "code",
   "execution_count": 6,
   "metadata": {},
   "outputs": [],
   "source": [
    "df = df[['Strike price','Daily settlem. price']].astype(float)\n",
    "D = df.values\n",
    "D = D[D[:,0]>=1] # do not take all values to fit the model\n",
    "X = D[:,0]; VM = D[:,1]"
   ]
  },
  {
   "cell_type": "markdown",
   "metadata": {},
   "source": [
    "Find the implied volatilities for the options in df."
   ]
  },
  {
   "cell_type": "code",
   "execution_count": 7,
   "metadata": {},
   "outputs": [
    {
     "data": {
      "text/plain": [
       "array([0.50370862, 0.48556632, 0.46447264, 0.43892689, 0.41479637,\n",
       "       0.39377892, 0.37492644, 0.36004817, 0.34688338, 0.33817546,\n",
       "       0.33619289, 0.33769768, 0.34224473, 0.34779472])"
      ]
     },
     "execution_count": 7,
     "metadata": {},
     "output_type": "execute_result"
    }
   ],
   "source": [
    "vola_i = np.zeros(len(D))\n",
    "vola_i[0] = implied_vola(D[0,1],s,D[0,0],T,r,q,1,0.6);\n",
    "for j in range(1,len(D)):\n",
    "    vola_i[j] = implied_vola(VM[j],s,X[j],T,r,q,1,vola_i[j-1]);\n",
    "\n",
    "vola_i"
   ]
  },
  {
   "cell_type": "markdown",
   "metadata": {},
   "source": [
    "Now plot the points $(X_\\ell,\\sigma_\\ell^{\\rm i})$. "
   ]
  },
  {
   "cell_type": "code",
   "execution_count": 8,
   "metadata": {},
   "outputs": [
    {
     "data": {
      "image/png": "[encoded data removed]",
      "text/plain": [
       "<Figure size 432x288 with 1 Axes>"
      ]
     },
     "metadata": {
      "needs_background": "light"
     },
     "output_type": "display_data"
    }
   ],
   "source": [
    "plt.plot(X,vola_i,'k.'); \n",
    "\n",
    "f = UnivariateSpline(X,vola_i,k=3,s=0); \n",
    "Xvec = np.arange(np.min(X),np.max(X)+0.01,0.01)\n",
    "\n",
    "plt.plot(Xvec,f(Xvec));\n",
    "plt.xlabel('$X$'); plt.ylabel('$\\sigma^i$');\n",
    "plt.legend(('market','interpolation'));"
   ]
  },
  {
   "cell_type": "markdown",
   "metadata": {},
   "source": [
    "Note that between these points we use some interpolation procedure: for a not tradable option with strike $X\\in ]X_\\ell,X_{\\ell+1}[$ we stipulate an implied volatility by some function $f$, $X\\mapsto \\sigma^{\\textrm{i}}=f(X)$. In particular, $f$ defines indirectly a price for options that are not available on the market through the Black-Scholes formula \n",
    "\n",
    "\\begin{equation*}\n",
    "X\\mapsto V(s,t;X,T,\\sigma^{\\textrm{i}},r,q,\\omega)=V(s,t;X,T,f(X),r,q,\\omega)\\;.\n",
    "\\end{equation*}\n",
    "\n",
    "Here, we have to be careful, since the map $X\\mapsto V$ is convex or, equivalently, the so-called dual-gamma of the option is not negative, that is \n",
    "\n",
    "\\begin{equation*}\n",
    "\\partial_{XX}V(s,t;X,T,f(X),r,q,\\omega)=\\frac{ e^{-r(T-t)}\\phi(d_2)}{Xf(X)\\sqrt{T-t}}\\big(1+\\chi(X)\\big)\\geq 0\\;.\n",
    "\\end{equation*}\n",
    "\n",
    "If the interpolation function $f$ implies a violation of the convexity, there are arbitrage opportunities (so-called butterfly arbitrage) and the model $f$ is not a good model."
   ]
  },
  {
   "cell_type": "code",
   "execution_count": null,
   "metadata": {},
   "outputs": [],
   "source": [
    "Check the butterfly-arbitrage condition $\\partial_{XX}V\\geq 0$ for the above data."
   ]
  },
  {
   "cell_type": "code",
   "execution_count": 9,
   "metadata": {},
   "outputs": [],
   "source": [
    "V = lambda x:call_put_bs(s,x,T,f(x),r,q,1) # the option price V; for later purpose\n",
    "\n",
    "f_x = f.derivative(1); f_xx = f.derivative(2) # the derivatives of f\n",
    "\n",
    "# get the aux function chi(X)\n",
    "d1 = lambda x:(np.log(s/x)+(r-q+f(x)**2/2)*T)/(f(x)*np.sqrt(T))\n",
    "d2 = lambda x:d1(x)-f(x)*np.sqrt(T)\n",
    "chi = lambda x:2*np.sqrt(T)*x*d1(x)*f_x(x)+T*d1(x)*d2(x)*x**2*f_x(x)**2+T*x**2*f(x)*f_xx(x)\n",
    "\n",
    "# get the dual-gamma\n",
    "V_XX = lambda x:np.exp(-r*T)*norm.pdf(d2(x))/(x*f(x)*np.sqrt(T))*(1+chi(x))"
   ]
  },
  {
   "cell_type": "code",
   "execution_count": 10,
   "metadata": {},
   "outputs": [
    {
     "data": {
      "text/plain": [
       "5.470369325280785"
      ]
     },
     "execution_count": 10,
     "metadata": {},
     "output_type": "execute_result"
    },
    {
     "data": {
      "image/png": "[encoded data removed]",
      "text/plain": [
       "<Figure size 432x288 with 2 Axes>"
      ]
     },
     "metadata": {
      "needs_background": "light"
     },
     "output_type": "display_data"
    }
   ],
   "source": [
    "# plot option price and its dual-gamma\n",
    "\n",
    "fig, ax1 = plt.subplots()\n",
    "color = (0,0.4470,0.7410)\n",
    "ax1.plot(Xvec,V(Xvec),color=color), ax1.plot(X,VM,'.',color=color)\n",
    "ax1.plot([s,s,np.min(X)],[0,V(s),V(s)],'k:'), ax1.plot(s,V(s),'ko')\n",
    "ax1.set_xlabel('$X$'), ax1.set_ylabel('$V$',color=color)\n",
    "ax1.tick_params(axis='y',labelcolor=color)\n",
    "\n",
    "ax2 = ax1.twinx()\n",
    "\n",
    "color = (0.85,0.325,0.098)\n",
    "ax2.plot(Xvec,V_XX(Xvec),color=color);\n",
    "ax2.set_ylabel('$\\partial_{XX}V$',color=color)\n",
    "ax2.tick_params(axis='y',labelcolor=color)\n",
    "\n",
    "V(s) # the value of a ATM call according to the 'model' f"
   ]
  },
  {
   "cell_type": "markdown",
   "metadata": {},
   "source": [
    "# 3.4 Alternatives to the model of Black and Scholes"
   ]
  },
  {
   "cell_type": "markdown",
   "metadata": {},
   "source": [
    "As long as we are concerned with the pricing of European put or call options there is nothing wrong with the Black-Scholes formula. We just take for the volatility $\\sigma$ the implied volatility $\\sigma^{\\rm i}(X,T)$ depending on the strike $X$ and on the time-to-maturity $T$ of the option to be priced. As we have seen, the market only quotes implied volatilities for options which are available on the market. However, we need to price options with any strike or maturity. For example, how do we price an option with strike $1.12S_0$ and maturity $T=5$ years if the listed strikes are $0.9S_0$, $0.98S_0$, $1.05S_0$, $1.2S_0$ and the longest listed maturity is two years? A naive answer would be that we obtain the implied volatility $\\sigma^{\\rm i}(1.12S_0,5)$ by some interpolation and/or extrapolation applied to quoted implied volatilities. This is, however, not a good advice, since these inter- and/or extrapolations are generally not free from arbitrage. While it is possible to eliminate arbitrage implied by interpolation, extrapolation is more subtle. Thus, we typically have to resort on implied volatility models; these models are linked to the notion of local volatility. This is a model which extends the Black-Scholes model and which is used to price some standard exotic options such as digitals, barrier, Asian or lookback options."
   ]
  },
  {
   "cell_type": "markdown",
   "metadata": {},
   "source": [
    "## Local volatility"
   ]
  },
  {
   "cell_type": "markdown",
   "metadata": {},
   "source": [
    "In the local volatility model the volatility is a deterministic function of time $t$ and level of the underlying\n",
    "\n",
    "\\begin{equation*}\n",
    "\\sigma=\\sigma(s,t)\n",
    "\\end{equation*}\n",
    "  \n",
    "for some bivariate, deterministic function $\\sigma:\\mathbb{R}^+\\times [0,T]\\rightarrow \\mathbb{R}^+$. We replace in the stochastic differential equation of a geometric Brownian motion the constant $\\sigma$ by $\\sigma(s,t)$ and obtain the so-called <span style=\"color:red\">local volatility</span> model, that is,\n",
    "\n",
    "\\begin{equation*}\n",
    "{\\rm d}S_t=\\mu S_t{\\rm d}t+\\sigma(S_t,t) S_t {\\rm d}W_t,\\quad S_0=s>0\\;.\n",
    "\\end{equation*}\n",
    "\n",
    "The natural question is: does there exist a bivariate function $(s,t)\\mapsto \\sigma(s,t)$ such that the prices $V_c(s,0;X,T)$ of European (call) options implied by the above model are equal to the market prices, i.e., such that for every strike $X$ and every time-to-maturity $T$ the equation \n",
    "\n",
    "\\begin{equation*}\n",
    "V_c(s,0;X,T)=V^\\textrm{M}(s,0;X,T)\n",
    "\\end{equation*}\n",
    "\n",
    "becomes true? The answer to this question was given by Bruno Dupire and is \"yes\". \n",
    "\n",
    "Once the question of the existence of such a function is answered we ask for the construction of it. Dupire shows: if there are available market prices $V_c(X,T)$ of (call) options (we skip the dependence on $s$) for a continuum of strikes $X$ and times-to-maturity $T$, then the function $\\sigma$ is given by  \n",
    "\n",
    "\\begin{equation*}\n",
    "\\sigma^2(X,T)=2\\frac{\\partial_TV_c(X,T)+(r-q)X\\partial_XV_c(X,T)+qV_c(X,T)}{X^2\\partial_{XX}V_c(X,T)}\\;.\n",
    "\\end{equation*}\n",
    "\n",
    "In practice, however, we only have available a finite set of market prices which means that the function $V_c(X,T)$ and its partial derivates are not known. Thus, we need interpolation as well as extrapolation tools such that\n",
    "\n",
    "- the partial derivatives $\\partial_TV_c$, $\\partial_XV_c$ and $\\partial_{XX}V_c$ appearing in the above fraction exist and such that\n",
    "- there exist no arbitrage opportunities.\n",
    "\n",
    "How do we construct the local volatility function $\\sigma$ above when there are only a finite number of market prices $V_c(X_j,T_j)$ available? Several approaches to construct $\\sigma$ are discussed in the scientific literature, we briefly describe the approach of Gatheral and Jaquier. The authors do not directly consider the  above equation/definition, but a transformed version of it. To be more precise, we do not consider option prices $V$ but so called total implied variances $w$, defined as\n",
    "\n",
    "\\begin{equation*}\n",
    "w(x,T) := \\big(\\sigma^{\\textrm{i}}(x,T)\\big)^2T\\;.\n",
    "\\end{equation*}\n",
    "\n",
    "Herein, $\\sigma^{\\textrm{i}}(x,T)$ denotes the implied volatility of a European call or put option with strike\n",
    "\n",
    "\\begin{equation*}\n",
    "X = S_0e^{(r-q)T}e^x\n",
    "\\end{equation*}\n",
    "\n",
    "and time-to-maturity $T$. Thus, we need to re-express the above equation for the local volatility function in terms of $w$. It is possible to show (for simplicity we skip the argument $(x,T)$ in $w(x,T)$)\n",
    "\n",
    "\\begin{equation*}\n",
    "\\sigma^2(F_Te^x,T)=\\frac{\\partial_T w}{\\big(\\frac{x}{2w}\\partial_xw-1\\big)^2+\\frac{1}{2}\\partial_{xx}w-\\frac{1}{4}\\big(\\frac{1}{4}+\\frac{1}{w}\\big)(\\partial_xw)^2}\\;.\n",
    "\\end{equation*}\n",
    "\n",
    "The next step in the construction of the local volatility function $\\sigma(x,T)$ is the specification of $w$. For a fixed time-to-maturity $T$, Gatheral assumes a parametric form for the total implied variance. To be more precise, he assumes that - for a vector of parameters $\\boldsymbol{\\eta}:=(a,b,\\rho,m,s)$ - the function $x\\mapsto w(x)$ takes the form\n",
    "\n",
    "\\begin{equation*}\n",
    "w(x;\\boldsymbol{\\eta}) := a+b\\Big(\\rho(x-m)+\\sqrt{(x-m)^2+s^2}\\Big)\\;.\n",
    "\\end{equation*}\n",
    "\n",
    "Herein, $a,m\\in\\mathbb{R}$, $b\\geq 0$, $-1\\leq\\rho\\leq 1$, and $s>0$ are parameters to be found. Since $w$ is a total variance, it can not be negative, $w(x;\\boldsymbol{\\eta})\\geq 0$ for all $x\\in\\mathbb{R}$, thus the parameters have to satisfy the additional constraint  \n",
    "\n",
    "\\begin{equation*}\n",
    "a+bs\\sqrt{1-\\rho^2}\\geq 0\\;.\n",
    "\\end{equation*}\n",
    "\n",
    "There is no butterfly-arbitrage iff the denominator is non-negative, i.e.,\n",
    "\n",
    "\\begin{equation*}\n",
    "\\psi(x;\\boldsymbol{\\eta}):=\\Big(\\frac{x}{2w(x;\\boldsymbol{\\eta})}\\partial_xw(x;\\boldsymbol{\\eta})-1\\Big)^2+\\frac{1}{2}\\partial_{xx}w(x;\\boldsymbol{\\eta})-\\frac{1}{4}\\Big(\\frac{1}{4}+\\frac{1}{w(x;\\boldsymbol{\\eta})}\\Big)\\big(\\partial_xw(x;\\boldsymbol{\\eta})\\big)^2\\geq 0\n",
    "\\end{equation*}\n",
    "\n",
    "Now suppose we would like to price an European put or call with time-to-maturity $T$ and strike $X$. Also suppose that we have available markets quotes $V_\\ell^{\\textrm{M}}$ of European options with time-to-maturity equal to $T$ and strikes $X_\\ell\\neq X$, $\\ell=1,2,\\ldots,\\nu$.\n",
    "\n",
    "The question is then: How do we calibrate the model $w(x;\\boldsymbol{\\eta})$ such that the butterfly-arbitrage condition $\\psi(x;\\boldsymbol{\\eta})\\geq 0$ is satisfied? The answer leads to a sophisticated regression problem. The details presented in the script show that the parameter vector $\\boldsymbol{\\eta}$ is solution to the constrainted non-linear minimisation problem\n",
    "\n",
    "\\begin{equation*}\n",
    "\\widehat{\\boldsymbol{\\eta}}:=\\underset{\\boldsymbol{\\eta}\\in\\mathcal{S}}{\\operatorname{argmin}}\\sum_{\\ell=1}^\\nu\\Big[w(x_\\ell;\\boldsymbol{\\eta})-(\\sigma^{\\textrm{i},\\textrm{M}}_\\ell)^2T\\Big]^2+\\lambda \\sum_{j=0}^N1_{\\{\\psi(x_j;\\boldsymbol{\\eta})<0\\}}\\;.\n",
    "\\end{equation*}\n",
    "\n",
    "where the set $\\mathcal{S}\\subset\\mathbb{R}^5$ is defined by\n",
    "\n",
    "\\begin{equation*}\n",
    "\\mathcal{S}:=\\Big\\{\\boldsymbol{\\eta}\\in\\mathbb{R}^5\\mid b\\geq 0,\\;s>0,\\;|\\rho|\\leq 1,\\;a+bs\\sqrt{1-\\rho^2}\\geq 0\\Big\\}\\;.\n",
    "\\end{equation*}\n",
    "\n",
    "Furthermore, the $x_j$'s, $j=1,\\ldots,N$, are the elements of the discrete set $\\mathcal{G}:=\\{x_1,x_2,\\ldots,x_N\\}\\subset \\mathbb{R}$."
   ]
  },
  {
   "cell_type": "markdown",
   "metadata": {},
   "source": [
    "## Example 3.5\n",
    "\n",
    "Take the U-Blox data again and solve the above defined least-squares problem."
   ]
  },
  {
   "cell_type": "code",
   "execution_count": 11,
   "metadata": {},
   "outputs": [
    {
     "name": "stdout",
     "output_type": "stream",
     "text": [
      "Optimization terminated successfully.    (Exit mode 0)\n",
      "            Current function value: 2.6645425158397805e-06\n",
      "            Iterations: 64\n",
      "            Function evaluations: 475\n",
      "            Gradient evaluations: 64\n"
     ]
    },
    {
     "data": {
      "text/plain": [
       "array([-0.09840537,  0.19538578,  0.13128531,  0.1908742 ,  0.66952892])"
      ]
     },
     "execution_count": 11,
     "metadata": {},
     "output_type": "execute_result"
    },
    {
     "data": {
      "image/png": "[encoded data removed]",
      "text/plain": [
       "<Figure size 432x288 with 1 Axes>"
      ]
     },
     "metadata": {
      "needs_background": "light"
     },
     "output_type": "display_data"
    }
   ],
   "source": [
    "# estimate the model w(x;eta), where eta = [a,b,rho,m,s], using non-linear least squares\n",
    "wdata = vola_i**2*T; # total implied variances\n",
    "xdata = np.log(D[:,0]/(s*np.exp(r*T)))\n",
    "\n",
    "def w_model(eta,x):\n",
    "    # the total implied variance w(x;eta)\n",
    "    return  eta[0]+eta[1]*(eta[2]*(x-eta[3])+np.sqrt((x-eta[3])**2+eta[4]**2))\n",
    "\n",
    "def wp_model(eta,x):\n",
    "    # the first derivative of w(x;eta) w.r.t x\n",
    "    return eta[1]*eta[2]+eta[1]*(x-eta[3])/np.sqrt((x-eta[3])**2+eta[4]**2)\n",
    "\n",
    "def wpp_model(eta,x):\n",
    "    # the second derivative of w(x;eta) w.r.t x\n",
    "    return eta[1]*eta[4]**2*((x-eta[3])**2+eta[4]**2)**(-3/2)\n",
    "\n",
    "def psi(eta,x):\n",
    "    # the function psi(x;eta)\n",
    "    return (x/(2*w_model(eta,x))*wp_model(eta,x)-1)**2+0.5*wpp_model(eta,x)\\\n",
    "            -0.25*(0.25+1/w_model(eta,x))*wp_model(eta,x)**2\n",
    "\n",
    "def obj_func(eta): \n",
    "    # the objective function to be minimized; \n",
    "    lam = 10**10; # penalty parameter\n",
    "    residuals = wdata-w_model(eta,xdata) # the residuals\n",
    "    x = np.arange(-5,5,10**(-3)); y = psi(eta,x);\n",
    "    penalty = lam*np.sum(y<0) # if psi(x) < 0, penalize\n",
    "    \n",
    "    return np.sum(residuals**2)+penalty\n",
    "\n",
    "eta0 = np.array([-0.3,0.2,0.3,0,0.4])\n",
    "eta = fmin_slsqp(obj_func,eta0,eqcons=(),f_eqcons=None,ieqcons=(),\n",
    "                     f_ieqcons=lambda eta:eta[0]+eta[1]*eta[4]*np.sqrt(1-eta[2]),\n",
    "                     bounds=((None,None),(0,None),(-1,1),(None,None),(0,None)),\n",
    "                     fprime=None,fprime_eqcons=None, fprime_ieqcons=None,\n",
    "                     args=(),iter=1000, acc=1e-15, iprint=1, disp=None, full_output=0)\n",
    "\n",
    "plt.plot(D[:,0],vola_i,'k.');\n",
    "x = np.arange(0.98*np.min(D[:,0]),1.02*np.max(D[:,0]),1)\n",
    "plt.plot(x,np.sqrt(w_model(eta,np.log(x/(s*np.exp(r*T))))/T));\n",
    "plt.xlabel('$X$'); plt.ylabel('$\\sigma^i$');\n",
    "\n",
    "eta"
   ]
  },
  {
   "cell_type": "markdown",
   "metadata": {},
   "source": [
    "Check the condition $\\psi(x)\\geq 0$ graphically and find the minimum of $\\psi$ over the set $\\mathcal{G}$."
   ]
  },
  {
   "cell_type": "code",
   "execution_count": 12,
   "metadata": {},
   "outputs": [
    {
     "data": {
      "text/plain": [
       "0.06495441876302245"
      ]
     },
     "execution_count": 12,
     "metadata": {},
     "output_type": "execute_result"
    },
    {
     "data": {
      "image/png": "[encoded data removed]",
      "text/plain": [
       "<Figure size 432x288 with 1 Axes>"
      ]
     },
     "metadata": {
      "needs_background": "light"
     },
     "output_type": "display_data"
    }
   ],
   "source": [
    "x = np.arange(-5,5,10**(-4)); plt.plot(x,psi(eta,x)); plt.grid()\n",
    "plt.xlabel('$x$'); plt.ylabel('$\\psi(x)$');\n",
    "\n",
    "np.min(psi(eta,x))"
   ]
  },
  {
   "cell_type": "markdown",
   "metadata": {},
   "source": [
    "Now, compare the model $w$ with the cubic spline interpolation $f$"
   ]
  },
  {
   "cell_type": "code",
   "execution_count": 13,
   "metadata": {},
   "outputs": [],
   "source": [
    "lm = lambda x:np.log(x/s)-(r-q)*T  # the log-moneyness\n",
    "g = lambda x:np.sqrt(w_model(eta,lm(x))/T)\n",
    "d1g = lambda x:(np.log(s/x)+(r-q+g(x)**2/2)*T)/(g(x)*np.sqrt(T))\n",
    "d2g = lambda x:d1g(x)-g(x)*np.sqrt(T)\n",
    "Vg = lambda x:call_put_bs(s,x,T,g(x),r,q,1)"
   ]
  },
  {
   "cell_type": "code",
   "execution_count": 14,
   "metadata": {},
   "outputs": [
    {
     "data": {
      "text/plain": [
       "5.49709374614504"
      ]
     },
     "execution_count": 14,
     "metadata": {},
     "output_type": "execute_result"
    },
    {
     "data": {
      "image/png": "[encoded data removed]",
      "text/plain": [
       "<Figure size 432x288 with 2 Axes>"
      ]
     },
     "metadata": {
      "needs_background": "light"
     },
     "output_type": "display_data"
    }
   ],
   "source": [
    "# plot option price and its dual-gamma\n",
    "\n",
    "fig, ax1 = plt.subplots()\n",
    "color = (0,0.4470,0.7410)\n",
    "ax1.plot(Xvec,Vg(Xvec),color=color), ax1.plot(X,VM,'.',color=color)\n",
    "ax1.plot([s,s,np.min(X)],[0,Vg(s),Vg(s)],'k:'), ax1.plot(s,Vg(s),'ko')\n",
    "ax1.set_xlabel('$X$'), ax1.set_ylabel('$V$',color=color)\n",
    "ax1.tick_params(axis='y',labelcolor=color)\n",
    "\n",
    "ax2 = ax1.twinx()\n",
    "\n",
    "color = (0.85,0.325,0.098); h = 0.001\n",
    "ax2.plot(Xvec,(Vg(Xvec-h)-2*Vg(Xvec)+Vg(Xvec+h))/h**2,color=color);\n",
    "ax2.plot(Xvec,V_XX(Xvec),'--',color=color);\n",
    "ax2.set_ylabel('$\\partial_{XX}V$',color=color)\n",
    "ax2.tick_params(axis='y',labelcolor=color)\n",
    "plt.legend(('dual-gamma based on $w$','dual-gamma based on $f$'));\n",
    "\n",
    "Vg(s) # the value of a ATM call according to the model w"
   ]
  },
  {
   "cell_type": "markdown",
   "metadata": {},
   "source": [
    "As the difference between the option prices implied by $f$ and the option prices implied by $w$ are not visible in the above graph, we plot the relative difference\n",
    "\n",
    "\\begin{equation*}\n",
    "\\frac{|V(X;f)-V(X;w)|}{V(X;f)}\n",
    "\\end{equation*}\n",
    "\n",
    "in seperate figure. The dots corresponds to the market quotes."
   ]
  },
  {
   "cell_type": "code",
   "execution_count": 15,
   "metadata": {},
   "outputs": [
    {
     "data": {
      "image/png": "[encoded data removed]",
      "text/plain": [
       "<Figure size 432x288 with 1 Axes>"
      ]
     },
     "metadata": {
      "needs_background": "light"
     },
     "output_type": "display_data"
    }
   ],
   "source": [
    "plt.plot(Xvec,np.abs(Vg(Xvec)-V(Xvec))/V(Xvec)*100)\n",
    "plt.plot(X,np.abs(Vg(X)-V(X))/V(X)*100,'.');\n",
    "plt.legend(('models','market'))\n",
    "plt.xlabel('$X$'); plt.ylabel('relative difference in %');"
   ]
  },
  {
   "cell_type": "code",
   "execution_count": null,
   "metadata": {},
   "outputs": [],
   "source": [
    "As we have calibrated the model $w$ to market quotes, we are able to solve the problem of example 1.1, iii): On September 11, 2019 ($t=0$) find the strike $X$ of a European call option on U-Blox which expires on December 20, 2019 $(t=T)$ such that $V_c(s,0;X)=2.75$. "
   ]
  },
  {
   "cell_type": "code",
   "execution_count": 16,
   "metadata": {},
   "outputs": [
    {
     "data": {
      "text/plain": [
       "84.70345936444603"
      ]
     },
     "execution_count": 16,
     "metadata": {},
     "output_type": "execute_result"
    }
   ],
   "source": [
    "# find the strike X such that Vc(s;X) - 2.75 = 0\n",
    "f = lambda x: call_put_bs(s,x,T,g(x),r,q,1)[0]\n",
    "X2 = fsolve(lambda x:f(x)-2.75,80)[0]\n",
    "\n",
    "X2"
   ]
  },
  {
   "cell_type": "markdown",
   "metadata": {},
   "source": [
    "Now we repeat drawing the profit diagram of the outperformance product in example 1.1, iii)."
   ]
  },
  {
   "cell_type": "code",
   "execution_count": 17,
   "metadata": {},
   "outputs": [
    {
     "data": {
      "text/plain": [
       "(array([[0.34465034, 0.33733884]]), array([5.49709375, 2.75      ]))"
      ]
     },
     "execution_count": 17,
     "metadata": {},
     "output_type": "execute_result"
    }
   ],
   "source": [
    "# the implied vola and the price of calls with strike X1 and X2, respectively\n",
    "X1 = 1.0*s; x = np.asarray([[X1,X2]])\n",
    "prices = call_put_bs(s,x,T,g(x),r,q,1)[0]\n",
    "g(x), prices"
   ]
  },
  {
   "cell_type": "code",
   "execution_count": 18,
   "metadata": {},
   "outputs": [
    {
     "data": {
      "image/png": "[encoded data removed]",
      "text/plain": [
       "<Figure size 432x288 with 1 Axes>"
      ]
     },
     "metadata": {
      "needs_background": "light"
     },
     "output_type": "display_data"
    }
   ],
   "source": [
    "n_long = 1; n_short = 2; # 'n_long' long call with strike X1, 'n_short' short call with strike X2\n",
    "\n",
    "# draw the profit diagram of the outperformance product\n",
    "V0 = s+n_long*prices[0]-n_short*prices[1]\n",
    "profit = lambda x,X1,X2,V0: x+n_long*np.maximum(x-X1,0)-n_short*np.maximum(x-X2,0)-V0;\n",
    "x = np.arange(0.8*s,1.2*s,0.1);\n",
    "plt.plot(x,profit(x,X1,X2,V0)); plt.plot(x,x-s);\n",
    "plt.plot(x,-n_short*np.maximum(x-X2,0)+n_short*prices[1]);\n",
    "plt.plot(x,n_long*np.maximum(x-X1,0)-n_long*prices[0]); plt.grid()\n",
    "plt.legend(['product','long ul','short %i call' %n_short,'long %i call'%n_long])\n",
    "plt.xlabel('$S_T$'), plt.ylabel('$P$');"
   ]
  },
  {
   "cell_type": "markdown",
   "metadata": {},
   "source": [
    "## Stochastic volatility"
   ]
  },
  {
   "cell_type": "markdown",
   "metadata": {},
   "source": [
    "The model of local volatility is used to price some standard exotic options like digitals, barrier, asian or lookback options. However, to price other exotics like forward start or cliquet options a local volatility model is not appropriate. Here, it is market practice to use so-called <span style=\"color:red\">stochastic volatility</span>  models. In such a model, the constant volatility $\\sigma$ in the model of Black and Scholes is replaced by a stochastic process $\\sigma_t$, i.e., one considers the stochastic differential equation \n",
    "\n",
    "\\begin{equation*}\n",
    "{\\rm d}S_t=\\mu S_t{\\rm d}t+\\sigma_t S_t {\\rm d}W_t,\\quad S_0=s>0\\;.\n",
    "\\end{equation*}\n",
    "\n",
    "There exists a vast number of ways to specify $\\sigma_t$, here we pick the model of Heston since this one has become the benchmark stochastic volatility model. Heston sets $\\sigma_t=\\sqrt{V_t}$ and models the variance $V_t$ by a CIR process. The CIR process is named after Cox, Ingersoll and Ross; they use this process to model interest rates. A CIR process is defined as the solution of the stochastic differential equation \n",
    "\n",
    "\\begin{equation*}\n",
    "{\\rm d}V_t=\\kappa(m-V_t){\\rm d}t+\\delta\\sqrt{V_t}{\\rm d}\\widetilde{W}_t, \\quad V_0=v>0\\;,\n",
    "\\end{equation*}\n",
    " \n",
    "with $\\kappa,m,\\delta>0$. The Brownian motion $\\widetilde{W}_t$ driving the variance and the Brownian motion $W_t$ driving the stock price $S_t$ are correlated $\\rho\\in[-1,1]$. \n",
    "\n",
    "We remark that stochastic volatility models are related to the famous discrete time GARCH model (Generalised Autoregressive Conditional Heteroscedasticity). Indeed, if one takes in the GARCH model limits to continuous time, we end up with the model  ${\\rm d}V_t=\\kappa(m-V_t){\\rm d}t+\\delta V_t{\\rm d}\\widetilde{W}_t$, where the parameters $\\kappa,m,\\delta,\\rho$ depend on the GARCH parameters."
   ]
  },
  {
   "cell_type": "markdown",
   "metadata": {},
   "source": [
    "# 3.8 Technical note. Maximum likelihood estimation"
   ]
  },
  {
   "cell_type": "markdown",
   "metadata": {},
   "source": [
    "We assume the log-returns to follow a Student-t distribution with density\n",
    "\n",
    "\\begin{equation*}\n",
    "f(x)=\\frac{c_{\\nu}}{\\sqrt{\\nu\\sigma^2\\pi}}\\bigg[1+\\frac{1}{\\nu}\\big(\\frac{x-\\mu}{\\sigma}\\big)^2\\bigg]^{-\\frac{\\nu+1}{2}}\n",
    "\\end{equation*}\n",
    "\n",
    "with location and scale parameter $\\mu\\in\\mathbb{R},\\sigma\\in\\mathbb{R}^+$ and $\\nu\\in\\mathbb{R}^+$ the degrees of freedom. The constant $c_{\\nu}$ is given by $c_{\\nu}=\\Gamma(\\frac{\\nu+1}{2})/\\Gamma(\\nu/2)$. Note that $\\mu$ is the mean of the distribution, i.e., $\\mu=\\mathbb{E}[X]$ provided $\\nu>1$. The variance of the distribution is $\\textrm{Var}[X]=(\\frac{\\nu}{\\nu-2})^2\\sigma^2$, provided $\\nu>2$.\n",
    "\n",
    "Maximum likelihood is a common approach to fit parametric distributions to data. Suppose $\\textbf{x}=(x_1,x_2,\\ldots,x_n)^\\top$ is a random sample of a (univariate) random variable $X$. We assume that the density $f(x;\\boldsymbol{\\eta})$ of $X$ depends on $m$ parameters $\\boldsymbol{\\eta}=(\\eta_1,\\eta_2,\\ldots,\\eta_m)$. For example, the normal distribution has two parameters, $\\boldsymbol{\\eta}=(\\mu,\\sigma)$, and the student t distribution is described by three parameters $\\boldsymbol{\\eta}=(\\mu,\\sigma,\\nu)$. We select the parameters $\\boldsymbol{\\eta}$ in such a way that, according to the chosen distribution, the realisation $\\textbf{x}$ is most likely to appear. Since $\\textbf{x}$ is a random sample, it can be viewed as a realisation of the random vector $\\textbf{X}=(X_1,X_2,\\ldots,X_n)$, where the $X_i$'s are iid copies of $X$. The random vector $\\textbf{X}$ has then density $\\prod _kf(x_k;\\boldsymbol{\\eta})$. For a given and fixed $\\textbf{x}$, this is a function on the $m$ variables $(\\eta_1,\\eta_2,\\ldots,\\eta_m)$; it is called the likelihood function $L$. Thus, $L$ is given by \n",
    "\n",
    "\\begin{equation*}%\\label{eq:likelihood_general}\n",
    "L(\\textbf{x};\\boldsymbol{\\eta})=\\prod_{k=1}^nf(x_k;\\boldsymbol{\\eta})\\;.\n",
    "\\end{equation*}\n",
    "\n",
    "We are looking for the parameter vector $\\boldsymbol{\\eta}$ that maximises $L$. The necessary first order condition for a extremum is that all partial derivatives $\\partial_{\\eta_i}L$ have to be zero. We assume that the corresponding (in general non-linear) system of $m$ equations\n",
    "\n",
    "\\begin{equation*}%\\label{eq:likelihood_system}\n",
    "\\left\\{\\begin{array}{rcl}\n",
    "\\partial_{\\eta_1}L(\\textbf{x};\\boldsymbol{\\eta}) & = & 0 \\\\\n",
    "\\partial_{\\eta_2}L(\\textbf{x};\\boldsymbol{\\eta}) & = & 0 \\\\\n",
    "& \\vdots &   \\\\\n",
    "\\partial_{\\eta_m}L(\\textbf{x};\\boldsymbol{\\eta}) & = & 0\n",
    "\\end{array}\n",
    "\\right.\n",
    "\\end{equation*}\n",
    "\n",
    "admits a solution $\\widehat{\\boldsymbol{\\eta}}$. Since is unpleasant to take the derivative of a $n$-fold product, it is more convenient to consider the (natural) logarithm of $L$, the corresponding function is called the log-likelihood function\n",
    "\n",
    "\\begin{equation*}\n",
    "\\ell(\\textbf{x};\\boldsymbol{\\eta}):=\\ln L(\\textbf{x};\\boldsymbol{\\eta})=\\sum_{k=1}^n\\ln f(x_k;\\boldsymbol{\\eta})\\;.\n",
    "\\end{equation*}\n",
    "\n",
    "Since $x\\mapsto \\ln x$ is strictly increasing, the solution $\\widehat{\\boldsymbol{\\eta}}$ of the original system is also the solution of \n",
    "\n",
    "\\begin{equation*}%\\label{eq:log-likelihood_system}\n",
    "\\left\\{\\begin{array}{rcl}\n",
    "\\partial_{\\eta_1}\\ell(\\textbf{x};\\boldsymbol{\\eta}) & = & 0 \\\\\n",
    "\\partial_{\\eta_2}\\ell(\\textbf{x};\\boldsymbol{\\eta}) & = & 0 \\\\\n",
    "& \\vdots &   \\\\\n",
    "\\partial_{\\eta_m}\\ell(\\textbf{x};\\boldsymbol{\\eta}) & = & 0\n",
    "\\end{array}\n",
    "\\right.\n",
    "\\end{equation*}\n",
    "\n",
    "and vice-versa. How does this system translate to the case when $X$ follows a Student t distribution with density \n",
    "\n",
    "\\begin{equation*}\n",
    "f(x_k;\\boldsymbol{\\eta})=c_\\nu\\frac{1}{\\sqrt{\\nu\\pi}\\sigma}\\bigg(1+\\frac{1}{\\nu}\\big(\\frac{x_k-\\mu}{\\sigma}\\big)^2\\bigg)^{-(\\nu+1)/2}\n",
    "\\end{equation*}\n",
    "\n",
    "and $\\boldsymbol{\\eta}=(\\mu,\\sigma,\\nu)$? Well, if we denote by $z_k:=\\frac{x_k-\\mu}{\\sigma}$ and if we remark that the logarithm of $f$ is in this case just\n",
    "\n",
    "\\begin{equation*}\n",
    "\\ln f(x_k;\\mu,\\sigma,\\nu)=-\\frac{1}{2}\\ln\\pi+\\ln c_\\nu-\\frac{1}{2}\\ln\\nu-\\ln\\sigma-\\frac{\\nu+1}{2}\\ln\\big(1+\\frac{1}{\\nu}z_k^2\\big)\\;,\n",
    "\\end{equation*}\n",
    "\n",
    "then is easy to see that log-likelihood function is\n",
    "\n",
    "\\begin{equation*}\n",
    "\\ell(\\textbf{x};\\mu,\\sigma,\\nu)=-\\frac{n}{2}\\ln\\pi+n\\ln c_\\nu-\\frac{n}{2}\\ln\\nu-n\\ln\\sigma-\\frac{\\nu+1}{2}\\sum_{k=1}^n\\ln g_k(\\mu,\\sigma,\\nu)\\;.\n",
    "\\end{equation*}\n",
    "\n",
    "Here, we have set \n",
    "\n",
    "\\begin{equation*}%\\label{eq:def_of_gi}\n",
    "g_k(\\mu,\\sigma,\\nu):=1+\\frac{1}{\\nu}z_k^2=1+\\frac{1}{\\nu}\\big(\\frac{x_k-\\mu}{\\sigma}\\big)^2\n",
    "\\end{equation*}\n",
    "\n",
    "to simplify the notation. The system of equations in this particular case becomes  \n",
    "\n",
    "\\begin{eqnarray*}\n",
    "\\partial_{\\mu}\\ell(\\textbf{x};\\mu,\\sigma,\\nu) & = & -\\frac{\\nu+1}{2}\\sum_{k=1}^n\\frac{\\partial_\\mu g_k}{g_k}=0\\\\\n",
    "\\partial_{\\sigma}\\ell(\\textbf{x};\\mu,\\sigma,\\nu) & = & -\\frac{n}{\\sigma}-\\frac{\\nu+1}{2}\\sum_{k=1}^n\\frac{\\partial_\\sigma g_k}{g_k}=0\\\\\n",
    "\\partial_{\\nu}\\ell(\\textbf{x};\\mu,\\sigma,\\nu) & = & n\\frac{\\partial_\\nu c_\\nu}{c_\\nu}-\\frac{n}{2\\nu}-\\frac{1}{2}\\sum_{k=1}^n\\ln g_k-\\frac{\\nu+1}{2}\\sum_{k=1}^n\\frac{\\partial_\\nu g_k}{g_k}=0\n",
    "\\end{eqnarray*}\n",
    "\n",
    "Calculating the partial derivatives $\\partial_\\nu c_\\nu$, $\\partial_\\mu g_k$, $\\partial_\\sigma g_k$ and $\\partial_\\nu g_k$ and doing some algebraic manipulations, we finally obtain the following non-linear system to find the parameter vector $\\boldsymbol{\\eta} = (\\mu,\\sigma,\\nu)$ corresponding to the student t distribution.\n",
    "\n",
    "\\begin{equation*}\n",
    "\\left\\{\\begin{array}{rcl}\n",
    "\\displaystyle{\\sum_{k=1}^n\\frac{z_k}{g_k}}& = & 0 \\\\\n",
    "\\displaystyle{\\frac{1}{n}\\sum_{k=1}^n\\frac{z_k^2}{g_k}-\\frac{\\nu}{\\nu+1}}& = & 0 \\\\\n",
    "\\displaystyle{\\psi\\Big(\\frac{\\nu+1}{2}\\Big)-\\psi\\Big(\\frac{\\nu}{2}\\Big)-\\frac{1}{n}\\sum_{k=1}^n\\ln g_k} & = & 0\n",
    "\\end{array}\\right.\n",
    "\\end{equation*}\n",
    "\n",
    "with\n",
    "\n",
    "\\begin{equation*}\n",
    "z_k=\\frac{x_k-\\mu}{\\sigma}, \\quad g_k=1+\\frac{1}{\\nu}z_k^2\n",
    "\\end{equation*}\n",
    "\n",
    "and where $\\psi$ denotes the so-called Psi-function. We use Python's fsolve to solve this non-linear system, see the Python function <span style=\"color:orange\">mle_tlocation.py</span>"
   ]
  },
  {
   "cell_type": "code",
   "execution_count": 19,
   "metadata": {},
   "outputs": [
    {
     "name": "stdout",
     "output_type": "stream",
     "text": [
      "Help on function mle_tlocation in module mle_tlocation:\n",
      "\n",
      "mle_tlocation(R)\n",
      "    Given the log-returns R (a vector of length n) of an asset, \n",
      "    x = mle_tlocation(R) with x = [mu,sigma,nu] gives the maximum \n",
      "    likelihood estimator of a t-distribution with density \n",
      "    \n",
      "    f(x) = cv/(sqrt(nu*pi)*sigma)*[1+1/nu*((x-mu)/sigma)^2]^(-(nu+1)/2)\n",
      "    \n",
      "    where cv = gamma((nu+1)/2)/gamma(nu/2).\n",
      "\n"
     ]
    }
   ],
   "source": [
    "help(mle_tlocation)"
   ]
  },
  {
   "cell_type": "code",
   "execution_count": 22,
   "metadata": {},
   "outputs": [
    {
     "data": {
      "image/png": "[encoded data removed]",
      "text/plain": [
       "<Figure size 432x288 with 1 Axes>"
      ]
     },
     "metadata": {
      "needs_background": "light"
     },
     "output_type": "display_data"
    }
   ],
   "source": [
    "mat_contents = sio.loadmat('DAX.mat')\n",
    "mat_X = mat_contents['X']\n",
    "R = np.log(mat_X[1:]/mat_X[0:-1])\n",
    "plt.plot(R);"
   ]
  },
  {
   "cell_type": "markdown",
   "metadata": {},
   "source": [
    "Now estimate the parameters $\\boldsymbol{\\eta}=(\\mu,\\sigma,\\nu)$. \n",
    "\n",
    "Note that we could equivalently use <span style=\"color:orange\">eta = st.t.fit(R)</span> from SciPy to obtain $\\mu=\\textrm{eta[1]}$, $\\sigma=\\textrm{eta[2]}$ and $\\nu=\\textrm{eta[0]}$."
   ]
  },
  {
   "cell_type": "code",
   "execution_count": 24,
   "metadata": {},
   "outputs": [
    {
     "data": {
      "text/plain": [
       "(0.0006497316176970825, 0.009829241717685795, 3.2906593797372135)"
      ]
     },
     "execution_count": 24,
     "metadata": {},
     "output_type": "execute_result"
    }
   ],
   "source": [
    "eta = mle_tlocation(R); mu = eta[0]; sigma = eta[1]; nu = eta[2];\n",
    "mu, sigma, nu"
   ]
  },
  {
   "cell_type": "markdown",
   "metadata": {},
   "source": [
    "Plot a histogram of the log-returns and the density $f(x;\\mu,\\sigma,\\nu)$ of the corresponding Student t distribution. For comparison, we also fit and plot the normal distribution. "
   ]
  },
  {
   "cell_type": "code",
   "execution_count": 25,
   "metadata": {},
   "outputs": [
    {
     "data": {
      "text/plain": [
       "(0.0002757365159879201, 0.014737089975801492)"
      ]
     },
     "execution_count": 25,
     "metadata": {},
     "output_type": "execute_result"
    }
   ],
   "source": [
    "# the pdf of the Student t distribution\n",
    "f = lambda x: gamma((nu+1)/2)/gamma(nu/2)/(np.sqrt(np.pi*nu)*sigma)*(1+1/nu*((x-mu)/sigma)**2)**(-(nu+1)/2)\n",
    "\n",
    "# for comparison, plot the pdf of the normal distribution fitted to the data\n",
    "dist = st.norm; args = dist.fit(R)\n",
    "args"
   ]
  },
  {
   "cell_type": "code",
   "execution_count": 26,
   "metadata": {},
   "outputs": [
    {
     "name": "stderr",
     "output_type": "stream",
     "text": [
      "C:\\Users\\hino\\AppData\\Local\\Continuum\\anaconda3\\lib\\site-packages\\ipykernel_launcher.py:10: RuntimeWarning: divide by zero encountered in log\n",
      "  # Remove the CWD from sys.path while we load stuff.\n"
     ]
    },
    {
     "data": {
      "image/png": "[encoded data removed]",
      "text/plain": [
       "<Figure size 432x288 with 1 Axes>"
      ]
     },
     "metadata": {
      "needs_background": "light"
     },
     "output_type": "display_data"
    },
    {
     "data": {
      "image/png": "[encoded data removed]",
      "text/plain": [
       "<Figure size 432x288 with 1 Axes>"
      ]
     },
     "metadata": {
      "needs_background": "light"
     },
     "output_type": "display_data"
    }
   ],
   "source": [
    "fig, ax = plt.subplots()\n",
    "n, bins, patches = ax.hist(R,60,density=True)\n",
    "x = np.arange(bins[0],bins[-1],0.001)\n",
    "ax.plot(x,f(x)); \n",
    "ax.plot(x,dist.pdf(x,*args))\n",
    "plt.xlabel('log-return'); plt.ylabel('density');\n",
    "plt.legend(('Student-t','normal','data'));\n",
    "\n",
    "fig, ax1 = plt.subplots()\n",
    "ax1.plot((bins[1:]+bins[0:-1])/2,np.log(n),marker='.',linestyle='None')\n",
    "ax1.plot(x,np.log(f(x))); ax1.plot(x,np.log(dist.pdf(x,*args)))\n",
    "plt.xlabel('log-return'); plt.ylabel('log-density');\n",
    "plt.legend(('data','Student-t','normal'));\n",
    "plt.axis([-0.1,0.1,-5,5]);"
   ]
  },
  {
   "cell_type": "code",
   "execution_count": null,
   "metadata": {},
   "outputs": [],
   "source": []
  }
 ],
 "metadata": {
  "kernelspec": {
   "display_name": "Python 3",
   "language": "python",
   "name": "python3"
  },
  "language_info": {
   "codemirror_mode": {
    "name": "ipython",
    "version": 3
   },
   "file_extension": ".py",
   "mimetype": "text/x-python",
   "name": "python",
   "nbconvert_exporter": "python",
   "pygments_lexer": "ipython3",
   "version": "3.9.5"
  }
 },
 "nbformat": 4,
 "nbformat_minor": 2
}
