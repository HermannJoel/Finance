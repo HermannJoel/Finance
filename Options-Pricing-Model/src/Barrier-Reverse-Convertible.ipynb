{
 "cells": [
  {
   "cell_type": "markdown",
   "id": "dd3890f8",
   "metadata": {},
   "source": [
    "# 6. Barrier Reverse Covertible"
   ]
  },
  {
   "cell_type": "code",
   "execution_count": 1,
   "id": "4f1bae29",
   "metadata": {},
   "outputs": [],
   "source": [
    "import numpy as np\n",
    "import matplotlib.pyplot as plt\n",
    "import scipy.stats as ss\n",
    "import scipy.io as sio\n",
    "\n",
    "from scipy.optimize import curve_fit\n",
    "from gbm_d import gbm_d\n",
    "from barrier_bs import barrier_bs\n",
    "from yf import yf"
   ]
  },
  {
   "cell_type": "markdown",
   "id": "58ff5aaa",
   "metadata": {},
   "source": [
    "### Example 6.1\n",
    "\n",
    "We check the market price $V^{\\rm M}_{\\rm brc}=1041 / 1046$ (bid/ask) of the BRC on the Nestle (compare with the figure below) as of August $26$, $2019$ ($t=0$). \n",
    "\n",
    "<img src=\"Image/BRC_JB_1.jpg\" alt=\"Drawing\" style=\"width: 500px;\"/>\n",
    "<img src=\"Image/BRC_JB_2.jpg\" alt=\"Drawing\" style=\"width: 500px;\"/>\n",
    "\n",
    "We take the following data: $s=107.96$ (value Nestle), $\\sigma=19.34\\%$, $q=\\ln(1+0.0168)$, $r=-0.96\\%$, (values for $\\sigma$, $r$ and $q$ are from Bloomberg) and the maturity $t=T$ corresponds to $26/2/2021$. The remaining data are taken from the term sheet. In particular, the coupon payment dates $T_i$ are $T_1=5/9/2019$, $T_2=5/3/2020$, $T_3=7/9/2020$ and $T_4=5/3/2021$. We use the function <span style=\"color:orange\">yf.py</span> to calculate the time spans $T-T_i$ in the evaluation of the final value  $C^m$ of the coupon payments. The value $V_{p,{\\rm di}}$ follows from the Python function <span style=\"color:orange\">barrier_bs.py</span>."
   ]
  },
  {
   "cell_type": "code",
   "execution_count": 2,
   "id": "b4ff0849",
   "metadata": {},
   "outputs": [],
   "source": [
    "# time-to-maturity, time-to-coupon payments\n",
    "T = yf((26,8,2019),[(26,2,2021)])[0] \n",
    "Ti = yf((26,8,2019),[(5,9,2019),(5,3,2020),(7,9,2020),(5,3,2021)])\n",
    "\n",
    "# the value of the down-and-in put\n",
    "s = 107.96; B = 68.445; X = 91.26; r = -0.0096; q = np.log(1+0.0168)\n",
    "Vpdi = barrier_bs(s,B,X,T,0.1934,r,q)[1]\n",
    "\n",
    "# final value of the coupon payments\n",
    "Cm = 13.75*np.sum(np.exp(r*(T-Ti)))\n",
    "\n",
    "# the value of the BRC\n",
    "V = np.exp(-r*T)*(Cm+1000)-1000/X*Vpdi"
   ]
  },
  {
   "cell_type": "code",
   "execution_count": 3,
   "id": "1e97e81b",
   "metadata": {},
   "outputs": [
    {
     "data": {
      "text/plain": [
       "(2.183441388762827, 1045.9909411537612)"
      ]
     },
     "execution_count": 3,
     "metadata": {},
     "output_type": "execute_result"
    }
   ],
   "source": [
    "Vpdi, V"
   ]
  },
  {
   "cell_type": "code",
   "execution_count": 4,
   "id": "05d9d9b5",
   "metadata": {},
   "outputs": [
    {
     "data": {
      "image/png": "[encoded data removed]",
      "text/plain": [
       "<Figure size 432x288 with 1 Axes>"
      ]
     },
     "metadata": {
      "needs_background": "light"
     },
     "output_type": "display_data"
    }
   ],
   "source": [
    "S, t = gbm_d(s0=[91.26],Sigma=[[0.165**2]],mu=[0],T=0.5,Tau=[],dt=1/720) # the stock price\n",
    "\n",
    "# time-to-maturity, time-to-coupon payments\n",
    "T = yf((26,2,2019),[(26,2,2021)])[0] \n",
    "Ti = yf((26,2,2019),[(5,9,2019),(5,3,2020),(7,9,2020),(5,3,2021)])\n",
    "\n",
    "# final value of the coupon payments\n",
    "Cm = 13.75*np.sum(np.exp(r*(T-Ti)))\n",
    "\n",
    "# the value of the down-and-in put\n",
    "B = 68.445; X = 91.26; r = np.log(1-0.0073); q = np.log(1+0.018)\n",
    "Vpdi = barrier_bs(S,B,X,T-t,0.165,r,q)[1]\n",
    "\n",
    "# the value of the BRC\n",
    "Vbrc = np.exp(-r*(T-t))*(Cm+1000)-1000/X*Vpdi\n",
    "plt.plot(t,S/S[0],t,Vbrc/Vbrc[0]);\n",
    "plt.xlabel('$t$'); plt.ylabel('performance')\n",
    "plt.legend(('underlying','BRC'));"
   ]
  },
  {
   "cell_type": "markdown",
   "id": "9bc77930",
   "metadata": {},
   "source": [
    "## 6.2. Multi barrier reverse convertibles"
   ]
  },
  {
   "cell_type": "markdown",
   "id": "06d5a7b7",
   "metadata": {},
   "source": [
    "### Example 2.\n",
    "\n",
    "On June $13$, $2019$, ($t=0$) we check the issue price $1000$ CHF of the MBRC with $6.25\\%$ p.a. coupon and $65\\%$ barrier on CS and UBS given in the figure beloe.\n",
    "\n",
    "<img src='Image/MBRC_ZKB_1.jpg' alt='Drawing' style='width: 600px;'/>\n",
    "<img src='Image/MBRC_ZKB_2.jpg' alt='Drawing' style='width: 600px;'/>\n",
    "\n",
    "\n",
    "We take the values $s_1=X_1=11.47$ CHF (CS), $s_2=X_2=11.655$ (UBS), $B_1=7.4555=0.65s_1$, $B_2=7.5758=0.65s_2$, $r=-0.735\\%$. The continuous dividend yields are $q_1=\\ln(1.03547)$ (CS) and $q_2=\\ln(1.07783)$ (UBS). The implied volatilities are $\\boldsymbol{\\sigma}^{\\textrm{i}}=\\textrm{diag}(\\sigma_1^\\textrm{i},\\sigma_2^\\textrm{i})=\\textrm{diag}(0.226,0.204)$, the correlation matrix $\\boldsymbol{\\rho}$ is \n",
    "\n",
    "\\begin{equation*}\n",
    "\\boldsymbol{\\rho}=\\boldsymbol{\\rho}^{\\textrm{h}}=\\begin{pmatrix}1& \\rho \\\\ & 1\\end{pmatrix}=\\begin{pmatrix}1& 0.856 \\\\ & 1\\end{pmatrix}\\;.\n",
    "\\end{equation*}\n",
    "\n",
    "The remaining data is from the term sheet; time spans are calculated using <span style='color:orange'>yf.py</span>."
   ]
  },
  {
   "cell_type": "code",
   "execution_count": 5,
   "id": "0c73265c",
   "metadata": {},
   "outputs": [],
   "source": [
    "# input parameters (model, contract)\n",
    "s0 = [11.47,11.655]; q = [np.log(1.03547),np.log(1.07783)]; r = -0.00735\n",
    "sigma = np.diag([0.226,0.204]); rho = np.array([[1,0.856],[0,1]]); \n",
    "rho = rho+rho.T-np.eye(2); Sigma = sigma.dot(rho).dot(sigma)\n",
    "B = [7.4555,7.5758]; X = [11.47,11.655]; N = 1000\n",
    "T = yf((13,6,2019),[(11,6,2021)]); Ti = yf((13,6,2019),[(18,6,2020),(18,6,2021)])\n",
    "mu = [r-x for x in q]; q = np.reshape(np.asarray(q),[2,1])\n",
    "B = np.reshape(np.asarray(B),[2,1]); X = np.reshape(np.asarray(X),[2,1])\n",
    "\n",
    "# input parameters (Monte Carlo simulation)\n",
    "n = 10**5; dt = 1/(16*252); v = np.zeros(n)"
   ]
  },
  {
   "cell_type": "code",
   "execution_count": null,
   "id": "337fa130",
   "metadata": {},
   "outputs": [],
   "source": [
    "# Monte Carlo simulation\n",
    "for j in range(0,n):\n",
    "    D = gbm_d(s0,mu,Sigma,[],T,dt) \n",
    "    S = D[0][1:] # simulated stock prices, excluding s0\n",
    "    # the minimium stock prices\n",
    "    Smin = np.amin(S,axis=0); Smin = Smin.reshape(len(s0),1)\n",
    "    ST = S[-1,:]; ST = ST.reshape(len(s0),1)\n",
    "    \n",
    "    if np.any(Smin-B<=0): # barrier hit?\n",
    "        v[j] = np.maximum(1-np.min(ST/X),0) \n",
    "\n",
    "Vpdi = np.exp(-r*T)*np.mean(v)"
   ]
  },
  {
   "cell_type": "code",
   "execution_count": null,
   "id": "e547c2e1",
   "metadata": {},
   "outputs": [],
   "source": [
    "# final value of the coupon payments\n",
    "Cm = 0.0625*N*np.sum(np.exp(r*(T-Ti)))\n",
    "# the value of the BRC\n",
    "V = np.exp(-r*T)*(Cm+N)-N*Vpdi; display((V[0],Vpdi[0]))"
   ]
  },
  {
   "cell_type": "code",
   "execution_count": null,
   "id": "d5b0c900",
   "metadata": {},
   "outputs": [],
   "source": []
  }
 ],
 "metadata": {
  "kernelspec": {
   "display_name": "Python 3 (ipykernel)",
   "language": "python",
   "name": "python3"
  },
  "language_info": {
   "codemirror_mode": {
    "name": "ipython",
    "version": 3
   },
   "file_extension": ".py",
   "mimetype": "text/x-python",
   "name": "python",
   "nbconvert_exporter": "python",
   "pygments_lexer": "ipython3",
   "version": "3.9.7"
  }
 },
 "nbformat": 4,
 "nbformat_minor": 5
}
