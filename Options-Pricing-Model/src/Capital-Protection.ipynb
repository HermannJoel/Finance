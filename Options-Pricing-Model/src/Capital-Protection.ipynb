{
 "cells": [
  {
   "cell_type": "markdown",
   "id": "972e0abf",
   "metadata": {},
   "source": [
    "# 7. Capital Protection"
   ]
  },
  {
   "cell_type": "code",
   "execution_count": 2,
   "id": "258cba36",
   "metadata": {},
   "outputs": [],
   "source": [
    "import numpy as np\n",
    "import matplotlib.pyplot as plt\n",
    "import scipy.integrate as integrate\n",
    "\n",
    "from scipy.optimize import fsolve\n",
    "from scipy.stats import norm\n",
    "from call_put_bs import call_put_bs\n",
    "from gbm_d import gbm_d\n",
    "from hpr_cp import hpr_cp\n",
    "from yf import yf\n",
    "from find_beta import find_beta"
   ]
  },
  {
   "cell_type": "markdown",
   "id": "e31542b4",
   "metadata": {},
   "source": [
    "## 7.1 Payoff of an uncapped capital protection product"
   ]
  },
  {
   "cell_type": "markdown",
   "id": "9a87a066",
   "metadata": {},
   "source": [
    "The payoff of an uncapped capital protection product written on one underlying is\n",
    "\n",
    "\\begin{equation*}\n",
    "g(S_T)=kN+\\frac{zN}{S_0}\\max\\{S_T-X,0\\}\n",
    "\\end{equation*}\n",
    "\n",
    "where $k$ is the capital protection and $z$ is the participation (both in multiples of the denomination $N$). In the product described below, we have $k=1.01$ and $z=1$.\n",
    "\n",
    "<img src='Image/CP_ASIAN_RAIFF.jpg' alt='Drawing' style='width: 600px;'/>"
   ]
  },
  {
   "cell_type": "code",
   "execution_count": null,
   "id": "0fbcd978",
   "metadata": {},
   "outputs": [],
   "source": []
  },
  {
   "cell_type": "markdown",
   "id": "cd4e1469",
   "metadata": {},
   "source": [
    "## 7.2. Capital protection products on multiple underlyings"
   ]
  },
  {
   "cell_type": "markdown",
   "id": "06ab049a",
   "metadata": {},
   "source": [
    "We exemplarily consider the capital protection product written on multiple underlyings described in figure below. \n",
    "\n",
    "<img src='Image/MCP_LEON_1.jpg' alt='Drawing' style='width: 600px;'/>\n",
    "<img src='Image/MCP_LEON_2.jpg' alt='Drawing' style='width: 600px;'/> \n",
    "\n",
    "To find this expectation we again model the time evolution of the stock prices ${\\bf S}_t$ as a $d$-dimensional geometric Brownian motion; for this model it seems that this expectation can not be calculated analytically and one has to rely on numerical methods.\n",
    "\n",
    "### Example 1.\n",
    "\n",
    "We consider the product written on Nestle $\\rightarrow 1$, Novartis $\\rightarrow 2$, Roche $\\rightarrow 3$, Swiss Re $\\rightarrow 4$ and Zurich $\\rightarrow 5$ described in the above term sheet and check the issue price $V_{{\\rm cp},5}= 1000$ CHF.\n",
    "\n",
    "The initial stock prices $\\textbf{S}_0=(S_0^1,\\ldots,S_0^5)$ are from the term sheet; to estimate the dividend yields $q_i=\\ln(1+D_i/S_0^i)$ we take the dividends payments made in $2019$, thus $(D_1,D_2,D_3,D_4,D_5)=(2.45,2.89,8.7,5.2,19.33)$. The risk free is taken from the term sheet (\"Bondfloor at issuance\") as $79.52e^{rT}=80$ $\\Rightarrow$ $r=\\frac{1}{T}\\ln(80/79.52)$. We take the implied volatilities \n",
    "\n",
    "\\begin{equation*}\n",
    "\\boldsymbol{\\sigma}^{\\textrm{i}}=\\textrm{diag}(0.1703,0.1817,0.1765,0.1901,0.1788)\\;.\n",
    "\\end{equation*}"
   ]
  },
  {
   "cell_type": "code",
   "execution_count": 3,
   "id": "3b9b0d13",
   "metadata": {},
   "outputs": [],
   "source": [
    "T = yf((27,6,2019),[(27,6,2029)])\n",
    "s0 = [100.56,89.21,273.55,98.48,339.4]; D = [2.45,2.89,8.7,5.2,19.33]; r = np.log(80/79.52)/T\n",
    "q = np.log(1+np.reshape(np.asarray(D),[5,1])/np.reshape(np.asarray(s0),[5,1]))\n",
    "sigma = np.diag([0.1703,0.1817,0.1765,0.1901,0.1788]); lam = 0.878; \n",
    "rho = (1-lam)*np.eye(5)+lam*np.ones((5,5)); Sigma = sigma.dot(rho).dot(sigma)\n",
    "N = 1000; c = np.inf; k = 0.8; z = 4.59; gamma = 0.8;\n",
    "mu = r-q;"
   ]
  },
  {
   "cell_type": "code",
   "execution_count": 4,
   "id": "002ae1fd",
   "metadata": {},
   "outputs": [],
   "source": [
    "# input parameters (Monte Carlo simulation)\n",
    "n = 10**5; v = np.zeros(n)"
   ]
  },
  {
   "cell_type": "code",
   "execution_count": 5,
   "id": "330ee69d",
   "metadata": {},
   "outputs": [
    {
     "data": {
      "text/plain": [
       "(979.6421537049524, 0.18444215370495257)"
      ]
     },
     "metadata": {},
     "output_type": "display_data"
    }
   ],
   "source": [
    "# Monte Carlo simulation\n",
    "for j in range(0,n):\n",
    "    S = gbm_d(s0,mu,Sigma,[],T,T)[0] \n",
    "    v[j] = np.maximum(np.minimum(1+c-k,z*(np.min(S[-1,:]/S[0,:])-gamma)),0) # payoff worst-of-option\n",
    "\n",
    "Vcwo = np.exp(-r*T)*np.mean(v)\n",
    "V = N*(np.exp(-r*T)*k+Vcwo); display((V[0],Vcwo[0]))"
   ]
  },
  {
   "cell_type": "markdown",
   "id": "e9822fb2",
   "metadata": {},
   "source": [
    "## 7.3. Capital Protection Product With Asian Option Component"
   ]
  },
  {
   "cell_type": "markdown",
   "id": "f6181511",
   "metadata": {},
   "source": [
    "As an example, we consider the capital protection product in the figure below.\n",
    "\n",
    "<img src='Image/CP_ASIAN_RAIFF.jpg' alt='Drawing' style='width: 500px;'/>\n",
    "\n",
    "with $A_T$ the (discrete, arithmetic) average. The expression $\\max\\{A_T-S_0,0\\}$ is the payoff of a fixed strike asian call with strike $X=S_0$. The time $t$-value of this capital protection product is thus given by\n",
    "\n",
    "\\begin{equation*}\n",
    "V_{\\rm cp}(s,t)=e^{-r(T-t)}kN+\\frac{zN}{S_0}V_{{\\rm fs},c}(s,t)\\;,\n",
    "\\end{equation*}\n",
    "\n",
    "where we denote by $V_{{\\rm fs},c}(s,t)$ the value of a fixed strike asian call. Even for the simple model of Black and Scholes (geometric Brownian motion) there is no formula to calculate $V_{{\\rm fs},c}(s,t)$ and (once more) one needs numerical methods. For the parameters given in the term sheet and the market values $\\sigma=22.2\\%$, $r=\\ln(1+0.0308)$, $q=\\ln(1+0.0207)$ (values from Bloomberg) and $s=S_0=2792.62$ (ATX at $16/5/2011$) a Monte Carlo simulation based on $10^6$ paths yields the issue price $V_{\\rm cp}(s,0)\\approx 974.84$; in particular $V_{{\\rm fs},c}(s,0) \\approx 374.91$. Notice the rather large agio; according to the term sheet, the investor has to pay Eur $1030$."
   ]
  },
  {
   "cell_type": "code",
   "execution_count": null,
   "id": "8baef4fb",
   "metadata": {},
   "outputs": [],
   "source": [
    "# input parameters (model, contract)\n",
    "s0 = [2792.62]; q = [0.0205]; r = np.log(1+0.0308)\n",
    "Sigma = [[0.222**2]]\n",
    "X = s0; N = 1000; k = 1; z = 1.05\n",
    "T = yf((16,5,2011),[(12,5,2017)])[0]\n",
    "tj = yf((16,5,2011),[(14,5,2012),(13,5,2013),(12,5,2014),(12,5,2015),(12,5,2016),(12,5,2017)]).tolist()\n",
    "mu = [r-x for x in q]; q = np.asarray(q)"
   ]
  },
  {
   "cell_type": "code",
   "execution_count": null,
   "id": "e6960ab9",
   "metadata": {},
   "outputs": [],
   "source": [
    "# input parameters (Monte Carlo simulation)\n",
    "n = 10**3; v = np.zeros(n)"
   ]
  },
  {
   "cell_type": "code",
   "execution_count": null,
   "id": "d0f239fb",
   "metadata": {},
   "outputs": [],
   "source": [
    "# Monte Carlo simulation\n",
    "for j in range(0,n):\n",
    "    D = gbm_d(s0,mu,Sigma,tj,T,T) \n",
    "    S = D[0][1:] # simulated stock prices, excluding s0\n",
    "    AT = np.mean(S) # average price at maturity\n",
    "    \n",
    "    v[j] = np.maximum(AT-X,0) # payoff\n",
    "\n",
    "Vfsc = np.exp(-r*T)*np.mean(v)\n",
    "Vcp = N*(np.exp(-r*T)*k+z/np.asarray(s0)*Vfsc); display((Vcp[0],Vfsc))"
   ]
  },
  {
   "cell_type": "markdown",
   "id": "7585ec4c",
   "metadata": {},
   "source": [
    "Observe that the value $V_{{\\rm fs},c}(s,0)\\approx 374.91$ is (much) lower than the price $V_c(s,0)\\doteq 587.40$ of the corresponding european call. Whence, by considering the average price of the underlying at maturity rather than its final value gives the issuer the possibility to offer a higher capital protection and/or participation rate to the client.\n",
    "\n",
    "This means that once the density $f_{R^c}$ of the log-returns of the underlying is known, we can explicitly calculate the density of the holding period return of the capital protection products.\n",
    "\n",
    "In the figure below we plot - using the Python function <span style=\"color:orange\">hpr_cp.py</span> - the pdfs defined above for the products defined in the script in the case that the log-returns of the underlying $R^c_{t,T}\\sim\\mathcal{N}(\\mu_S,\\sigma_S^2)$ are normal. The parameter values are $t=0$, $T=3$, $S_0=640$, $v_0=1.03$, $X=X_1=S_0$, $X_2=1.25S_0$, $k=0.95$, and $z=0.8$ for the uncapped product, $z=1.3907$, $c=-0.05+0.25z$ for the capped product. Furthermore, the parameters of the geometric Brownian motion modelling $S_T$ are $\\mu=\\ln(1.03)$ and $\\sigma=0.19$. We compare these with the density $f_{R_{\\rm u}}$ of the return $R_{{\\rm u},t,T}=\\frac{S_T}{S_t}-1$ of a direct investment into the underlying."
   ]
  },
  {
   "cell_type": "code",
   "execution_count": null,
   "id": "c8d22471",
   "metadata": {},
   "outputs": [],
   "source": [
    "# the uncapped product\n",
    "hpr_cp(St=640,S0=640,vt=1.03,k=0.95,z=0.8,X1=640,X2=[],c=0,T=3,mu=np.log(1.03),sigma=0.19);\n",
    "\n",
    "# the capped product\n",
    "hpr_cp(St=640,S0=640,vt=1.03,k=0.95,z=1.3907,X1=640,X2=1.25*640,c=-0.05+0.25*1.3907,T=3,mu=np.log(1.03),sigma=0.19);"
   ]
  },
  {
   "cell_type": "markdown",
   "id": "574de919",
   "metadata": {},
   "source": [
    "Likewise, we have for the capped product\n",
    "\n",
    "\\begin{eqnarray*}\n",
    "\\mu_{\\rm ccp} & = & \\mathbb{E}[R_{{\\rm ccp},t,T}]=\\int_\\alpha^\\beta xf_{R_{\\rm ccp}}(x){\\rm d}x+p_1\\alpha+p_2\\beta\\\\\n",
    "\\sigma^2_{R_{\\rm ccp}} & = & \\mathbb{E}[(R_{{\\rm ccp},t,T}-\\mu_{\\rm ccp} )^2] \\\\\n",
    "& = & \\int_{\\alpha}^\\beta x^2f_{R_{\\rm ccp}}(x){\\rm d}x+\\alpha^2p_1+\\beta^2p_2-\\mu_{\\rm ccp}^2\\;.\n",
    "\\end{eqnarray*}\n",
    "\n",
    "In case that the log-returns of the underlying are normal, all the above integrals can be calculated analytically. However, for more realistic distributions, these integrals can only be evaluated numerically. In Python this can be accomplished using <span style=\"color:orange\">quad</span>. We use the self-written Python function <span style=\"color:orange\">hpr_cp.py</span> to calculate the expected return and the volatility of (capped or uncapped) capital protection products. As an example, consider the uncapped capital protection product above. Using <span style=\"color:orange\">hpr_cp.py</span> we then obtain $\\mathbb{E}[R_{{\\rm cp},t,T}]\\doteq 0.0684$ and $\\sigma_{R_{\\rm cp}}\\doteq 0.2213$."
   ]
  },
  {
   "cell_type": "code",
   "execution_count": null,
   "id": "4d5727e8",
   "metadata": {},
   "outputs": [],
   "source": [
    "# the uncapped product\n",
    "hpr_cp(St=640,S0=640,vt=1.03,k=0.95,z=0.8,X1=640,X2=[],c=0,T=3,mu=np.log(1.03),sigma=0.19)"
   ]
  },
  {
   "cell_type": "code",
   "execution_count": null,
   "id": "50408323",
   "metadata": {},
   "outputs": [],
   "source": [
    "Likewise, for the capped product from above"
   ]
  },
  {
   "cell_type": "code",
   "execution_count": null,
   "id": "d1794ca8",
   "metadata": {},
   "outputs": [],
   "source": [
    "# the capped product\n",
    "hpr_cp(St=640,S0=640,vt=1.03,k=0.95,z=1.3907,X1=640,X2=1.25*640,c=-0.05+0.25*1.3907,T=3,mu=np.log(1.03),sigma=0.19)"
   ]
  },
  {
   "cell_type": "code",
   "execution_count": null,
   "id": "b0bf8ad1",
   "metadata": {},
   "outputs": [],
   "source": []
  }
 ],
 "metadata": {
  "kernelspec": {
   "display_name": "Python 3 (ipykernel)",
   "language": "python",
   "name": "python3"
  },
  "language_info": {
   "codemirror_mode": {
    "name": "ipython",
    "version": 3
   },
   "file_extension": ".py",
   "mimetype": "text/x-python",
   "name": "python",
   "nbconvert_exporter": "python",
   "pygments_lexer": "ipython3",
   "version": "3.9.7"
  }
 },
 "nbformat": 4,
 "nbformat_minor": 5
}
