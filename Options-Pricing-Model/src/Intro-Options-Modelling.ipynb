{
 "cells": [
  {
   "cell_type": "markdown",
   "metadata": {},
   "source": [
    "# 1. Introduction Options Modelling"
   ]
  },
  {
   "cell_type": "code",
   "execution_count": 2,
   "metadata": {},
   "outputs": [],
   "source": [
    "import os\n",
    "#os.chdir()\n",
    "os.getcwd()"
   ]
  },
  {
   "cell_type": "code",
   "execution_count": 3,
   "metadata": {},
   "outputs": [],
   "source": [
    "# import all the necessary libraries\n",
    "import numpy as np\n",
    "import matplotlib.pyplot as plt\n",
    "import matplotlib.gridspec as gridspec\n",
    "import pandas as pd\n",
    "import random\n",
    "import time\n",
    "import scipy.stats as st\n",
    "\n",
    "from numpy.random import randn\n",
    "from scipy.optimize import fsolve\n",
    "from yf import yf\n",
    "from pandas.plotting import register_matplotlib_converters\n",
    "register_matplotlib_converters()"
   ]
  },
  {
   "cell_type": "code",
   "execution_count": 9,
   "metadata": {},
   "outputs": [],
   "source": [
    "import warnings\n",
    "warnings.filterwarnings('ignore')\n",
    "pd.options.display.max_columns = None"
   ]
  },
  {
   "cell_type": "code",
   "execution_count": 5,
   "metadata": {
    "scrolled": true
   },
   "outputs": [
    {
     "name": "stdout",
     "output_type": "stream",
     "text": [
      "Help on function yf in module yf:\n",
      "\n",
      "yf(t1, t2)\n",
      "    Measures the year fraction between dates t1 and t2>t1 according to the\n",
      "    30/360 European day count convention.\n",
      "    \n",
      "    t1 is the tuple (dd,mm,yyyy), t2 is a list of tuples \n",
      "    [(dd,mm,yyyy),...,(dd,mm,yyyy)]. Tau = yf(t1,t2) is an array, where Tau[j] \n",
      "    is the corresponding year fraction between t1 and t2[j].\n",
      "    \n",
      "    Example\n",
      "    t1 = (28,6,2017)\n",
      "    t2 = [(5,10,2017),(5,1,2018),(5,4,2018)]\n",
      "    \n",
      "    Tau = yf(t1,t2)\n",
      "\n"
     ]
    }
   ],
   "source": [
    "help(yf)"
   ]
  },
  {
   "cell_type": "markdown",
   "metadata": {},
   "source": [
    "## 1.1 DAY-COUNT CONVENTION"
   ]
  },
  {
   "cell_type": "markdown",
   "metadata": {},
   "source": [
    "If $t_1=d_1/m_1/y_1$ and $t_2=d_2/m_2/y_2$ are two dates, then the year fraction between these dates is defined as \n",
    "\n",
    "\\begin{equation*}\n",
    "\\frac{\\min\\{d_2,30\\}-\\min\\{d_1,30\\}}{360}+\\frac{m_2-m_1}{12}+y_2-y_1\\;.\n",
    "\\end{equation*}"
   ]
  },
  {
   "cell_type": "code",
   "execution_count": null,
   "metadata": {},
   "outputs": [],
   "source": [
    "#t1 = 12/1/2015, t2 = 30/8/2018\n",
    "yf((12,1,2015),[(30,8,2018)])[0]"
   ]
  },
  {
   "cell_type": "markdown",
   "metadata": {},
   "source": [
    "## 1.2 OUTPERFORMANCE CERTIFICAT"
   ]
  },
  {
   "cell_type": "markdown",
   "metadata": {},
   "source": [
    "plot of the profit diagram of the following outperformance product\n",
    "\n",
    "- buy (long) one share of underlying with price $s = S_0 = 77.45$\n",
    "- buy (long) one call option on the underlying with strike $X_1 = S_0$ and price $V_c(s,0;X_1) = 5.50$\n",
    "- sell (short) two call options on the underlying each with strike $X_2 = 1.2S_0$ and price $V_c(s,0;X_2) = 1.20$"
   ]
  },
  {
   "cell_type": "code",
   "execution_count": null,
   "metadata": {},
   "outputs": [],
   "source": [
    "#t1=11/09/2019 t2=20/12/2019"
   ]
  },
  {
   "cell_type": "code",
   "execution_count": null,
   "metadata": {},
   "outputs": [],
   "source": [
    "#options parameter\n",
    "#s = 77.45  underlying\n",
    "#X1 = s # strike1\n",
    "#X2 = 1.2*s # strike2"
   ]
  },
  {
   "cell_type": "code",
   "execution_count": 6,
   "metadata": {},
   "outputs": [],
   "source": [
    "s = 77.45; X1 = s; X2 = 1.2*s; # underlying, strikes\n",
    "prices = np.array([[5.5],[1.2]]) # the option prices \n",
    "n_long = 1; n_short = 2; # 'n_long' long call with strike X1, 'n_short' short call with strike X2"
   ]
  },
  {
   "cell_type": "code",
   "execution_count": 7,
   "metadata": {},
   "outputs": [
    {
     "data": {
      "image/png": "[encoded data removed]",
      "text/plain": [
       "<Figure size 432x288 with 1 Axes>"
      ]
     },
     "metadata": {
      "needs_background": "light"
     },
     "output_type": "display_data"
    }
   ],
   "source": [
    "# draw the profit diagram of the outperformance product\n",
    "V0 = s+n_long*prices[0]-n_short*prices[1]\n",
    "profit = lambda x,X1,X2,V0: x+n_long*np.maximum(x-X1,0)-n_short*np.maximum(x-X2,0)-V0;\n",
    "x = np.arange(0.8*s,1.4*s,0.1);\n",
    "plt.plot(x,profit(x,X1,X2,V0)); plt.plot(x,x-s);\n",
    "plt.plot(x,-n_short*np.maximum(x-X2,0)+n_short*prices[1]);\n",
    "plt.plot(x,n_long*np.maximum(x-X1,0)-n_long*prices[0]);\n",
    "plt.grid()\n",
    "plt.legend(['product','long ul','short %i call' %n_short,'long %i call'%n_long])\n",
    "plt.xlabel('$S_T$'), plt.ylabel('$P$');"
   ]
  },
  {
   "cell_type": "markdown",
   "metadata": {},
   "source": [
    "### 1.2.1. Case study"
   ]
  },
  {
   "cell_type": "markdown",
   "metadata": {},
   "source": [
    "We consider the hypothetical product written on Roche defined below\n",
    "\n",
    "\\begin{array}{l|l}\n",
    "{\\rm Issuer} & {\\rm Eternity\\;Investments\\;EI} \\\\\n",
    "{\\rm Underlying} & {\\rm Roche\\;ROGN} \\\\\n",
    "{\\rm Initial\\; Fixing\\;IF} & {\\rm CHF}\\;286.10 \\\\\n",
    "{\\rm Initial\\;Fixing\\;Date} & {\\rm October}\\;4, 2019 \\\\\n",
    "{\\rm Final\\;Fixing\\;Date} & {\\rm October}\\;2, 2020 \\\\\n",
    "{\\rm Redemption\\;Date} & {\\rm October}\\;9, 2020\\\\\\hline\n",
    "{\\rm Redemption} & {\\rm The\\;Investor\\;is\\;entitled\\;to\\;receive\\;from\\;the\\;Issuer}\\\\\n",
    "& {\\rm on\\;the\\;Redemption\\;Date\\;per\\;Product:} \\\\\n",
    "& {\\rm The\\;Maximum\\;of\\;the\\;Underlying\\;minus} \\\\\n",
    "& {\\rm the\\;Minimum\\;of\\;the\\;Underlying} \\\\\\hline\n",
    "{\\rm Maximum} & {\\rm The\\;realised\\;maximum\\;of\\;the\\;official\\;daily\\;close} \\\\\n",
    "& {\\rm of\\;the\\;Underlying\\;during\\;the\\;observation\\;period.} \\\\\\hline\n",
    "{\\rm Minimum} & {\\rm The\\;realised\\;minimum\\;of\\;the\\;official\\;daily\\;close} \\\\\n",
    "& {\\rm of\\;the\\;Underlying\\;during\\;the\\;observation\\;period.} \\\\ \\hline\n",
    "{\\rm Observation\\;period} & {\\rm Each\\;business\\;day\\;from\\;October}\\;4,\\;2019 \\\\\n",
    "& {\\rm to\\;Final\\;Fixing\\;Date.} \\\\\\hline\n",
    "{\\rm Calculation\\;Examples} & {\\rm Minimum\\;\\;Maximum\\;\\;Redemption} \\\\\n",
    "& 270\\qquad\\quad 340\\qquad \\quad 70 \\\\\n",
    "& 250\\qquad\\quad 300\\qquad \\quad 50 \\\\\n",
    "& 220\\qquad\\quad 300\\qquad \\quad 80 \\\\\n",
    "\\end{array}\n",
    "\n",
    "![](Image/roche.png)\n",
    "\n",
    "Assume that you purchase this product at issuance and that you hold it until maturity. The goal of this case study is to answer how much are we willing to pay at the issuance for this product?\n",
    "\n",
    "At maturity, the investor is entitled to receive the cash flow: \n",
    "\\begin{equation*}\n",
    "g(S_{t_0},\\ldots,S_{t_J}):=\\max\\{S_{t_0},\\ldots,S_{t_J}\\}-\\min\\{S_{t_0},\\ldots,S_{t_J}\\}\\;,\n",
    "\\end{equation*}\n",
    "\n",
    "where $S_t$ denotes the price of the underlying at time $t$ (with $S_0=286.10$) and $t_0,t_1,\\ldots,t_J$ indicate the observation dates. The future time evolution of the underlying (its path) is not known, and so isn't the cash flow the investor receives. For example, the path of the underlying shown above is just one of many possible scenarios, each of these scenarios generates a cash flow at maturity. By the principle of financial equivalence, we need to discount the cash flow generated by a scenario to the date of issuance. This discounted random cash flow might be an estimate for the value/price of the product. To obtain a reasonable price, we should therefore generate as many scenarios for the time evolution of the underlying as possible and calculate for each of these scenarios the discounted cash flow. Then we average over all discounted cash flows."
   ]
  },
  {
   "cell_type": "markdown",
   "metadata": {},
   "source": [
    "We find the price of the product by with a Monte Carlo simulation.\n",
    "\n",
    "We model the time evolution of the stock price $S_t$ as a geometric Brownian motion. In Python this can be realised as follows, where we use the following parameters:\n",
    "\n",
    "$s_0$ is the price of the stock at issuance $t=0$. In this example $s_0=286.10$.\n",
    "\n",
    "$T$ is the maturity of the product. In this example $T=358/360$.\n",
    "\n",
    "$J$ is number of evenly spaced observation dates $t_j=j\\frac{T}{J}$. In this example $J=252$.\n",
    "\n",
    "$\\sigma$ is the (annual, implied) volatility of the stock. In this example $\\sigma=0.0753$.\n",
    "\n",
    "$r$ is the continuously compounded risk free. In this example $r=-0.0063$.\n",
    "\n",
    "$q$ is the continuously compounded dividend yield. In this example $q=0.0310$.\n",
    "\n",
    "Simulate one path ..."
   ]
  },
  {
   "cell_type": "code",
   "execution_count": 4,
   "metadata": {},
   "outputs": [],
   "source": [
    "s0 = 286.1; T = 358/360; J = 252; sigma = 0.0753; r = -0.0063; q = 0.0310; # model- and contract parameters\n",
    "dt = T/J; tj = np.arange(dt,T+dt,dt); \n",
    "tj = np.reshape(np.asarray(tj),[J,1]); t = np.vstack((np.asarray([[0.0]]),tj))\n",
    "Z = randn(1,J); X = np.cumsum(Z,axis=1)\n",
    "s = s0*np.exp((r-q-0.5*sigma**2)*tj+sigma*np.sqrt(dt)*X.T) # the stock prices at tj, excluding s0\n",
    "s = np.vstack((np.asarray(s0),s)) # the stock prices at tj, including s0"
   ]
  },
  {
   "cell_type": "markdown",
   "metadata": {},
   "source": [
    ".. .and plot it. Furthermore, get the payoff $g_k$ of the product for this scenario"
   ]
  },
  {
   "cell_type": "code",
   "execution_count": 5,
   "metadata": {},
   "outputs": [
    {
     "name": "stderr",
     "output_type": "stream",
     "text": [
      "<ipython-input-5-2bccc3002ab7>:2: VisibleDeprecationWarning: Creating an ndarray from ragged nested sequences (which is a list-or-tuple of lists-or-tuples-or ndarrays with different lengths or shapes) is deprecated. If you meant to do this, you must specify 'dtype=object' when creating the ndarray\n",
      "  plt.plot(np.array([0.0,t[s==np.min(s)]]),np.array([np.min(s),np.min(s)]))\n",
      "<ipython-input-5-2bccc3002ab7>:3: VisibleDeprecationWarning: Creating an ndarray from ragged nested sequences (which is a list-or-tuple of lists-or-tuples-or ndarrays with different lengths or shapes) is deprecated. If you meant to do this, you must specify 'dtype=object' when creating the ndarray\n",
      "  plt.plot(np.array([0.0,t[s==np.max(s)]]),np.array([np.max(s),np.max(s)]))\n"
     ]
    },
    {
     "data": {
      "text/plain": [
       "31.89638786674726"
      ]
     },
     "metadata": {},
     "output_type": "display_data"
    },
    {
     "data": {
      "image/png": "[encoded data removed]",
      "text/plain": [
       "<Figure size 432x288 with 1 Axes>"
      ]
     },
     "metadata": {
      "needs_background": "light"
     },
     "output_type": "display_data"
    }
   ],
   "source": [
    "plt.plot(t,s)\n",
    "plt.plot(np.array([0.0,t[s==np.min(s)]]),np.array([np.min(s),np.min(s)]))\n",
    "plt.plot(np.array([0.0,t[s==np.max(s)]]),np.array([np.max(s),np.max(s)]))\n",
    "plt.xlabel('$t$'); plt.ylabel('$S_t$');\n",
    "plt.legend(('stock price','minimum','maximum'));\n",
    "g = np.max(s)-np.min(s)\n",
    "display(g)"
   ]
  },
  {
   "cell_type": "markdown",
   "metadata": {},
   "source": [
    "To get an estimate of the value of the product, repeat the above $n$ times (without plotting)."
   ]
  },
  {
   "cell_type": "code",
   "execution_count": 6,
   "metadata": {},
   "outputs": [
    {
     "data": {
      "text/plain": [
       "33.63056758467248"
      ]
     },
     "metadata": {},
     "output_type": "display_data"
    }
   ],
   "source": [
    "n = 5*10**4; v = np.zeros(n)\n",
    "for j in range(0,n):\n",
    "    Z = randn(1,J); X = np.cumsum(Z,axis=1)\n",
    "    s = s0*np.exp((r-q-0.5*sigma**2)*tj+sigma*np.sqrt(dt)*X.T)\n",
    "    s = np.vstack((np.asarray(s0),s))\n",
    "    v[j] = np.max(s)-np.min(s) # the payoff\n",
    "\n",
    "# average and discount\n",
    "v = np.exp(-r*T)*np.mean(v); display(v)"
   ]
  },
  {
   "cell_type": "markdown",
   "metadata": {},
   "source": [
    "### 1.2.2. Case Study 2. Pricing an option with Bootstrap"
   ]
  },
  {
   "cell_type": "markdown",
   "metadata": {},
   "source": [
    "On September 3, 2019, the market price of a call option with strike $X=110$ CHF and with maturity November 15, 2019, on Nestle (which trades at $s_0=111.34$ CHF) is equal to $V^{\\textrm M}=3.72$ CHF (average of bid and ask price). We use the bootstrap procedure described in the script to price this option without any model."
   ]
  },
  {
   "cell_type": "code",
   "execution_count": 10,
   "metadata": {},
   "outputs": [],
   "source": [
    "#Load daily closing prices of Nestle from September 3, 2018, to September 2, 2019, and calculate the (daily) log-returns.\n",
    "path= r'D:/Venvs/Finance/Options-Pricing-Model/docs/Jupiter Notebooks-Python functions/'\n",
    "data_nesn = pd.read_excel(path + 'nesn_03092018-02092019.xlsx', sheet_name='Tabelle1')"
   ]
  },
  {
   "cell_type": "code",
   "execution_count": 11,
   "metadata": {
    "scrolled": true
   },
   "outputs": [
    {
     "data": {
      "text/html": [
       "<div>\n",
       "<style scoped>\n",
       "    .dataframe tbody tr th:only-of-type {\n",
       "        vertical-align: middle;\n",
       "    }\n",
       "\n",
       "    .dataframe tbody tr th {\n",
       "        vertical-align: top;\n",
       "    }\n",
       "\n",
       "    .dataframe thead th {\n",
       "        text-align: right;\n",
       "    }\n",
       "</style>\n",
       "<table border=\"1\" class=\"dataframe\">\n",
       "  <thead>\n",
       "    <tr style=\"text-align: right;\">\n",
       "      <th></th>\n",
       "      <th>Dates</th>\n",
       "      <th>Price</th>\n",
       "    </tr>\n",
       "  </thead>\n",
       "  <tbody>\n",
       "    <tr>\n",
       "      <th>0</th>\n",
       "      <td>2018-09-03</td>\n",
       "      <td>81.50</td>\n",
       "    </tr>\n",
       "    <tr>\n",
       "      <th>1</th>\n",
       "      <td>2018-09-04</td>\n",
       "      <td>80.50</td>\n",
       "    </tr>\n",
       "    <tr>\n",
       "      <th>2</th>\n",
       "      <td>2018-09-05</td>\n",
       "      <td>79.90</td>\n",
       "    </tr>\n",
       "    <tr>\n",
       "      <th>3</th>\n",
       "      <td>2018-09-06</td>\n",
       "      <td>79.96</td>\n",
       "    </tr>\n",
       "    <tr>\n",
       "      <th>4</th>\n",
       "      <td>2018-09-07</td>\n",
       "      <td>80.24</td>\n",
       "    </tr>\n",
       "    <tr>\n",
       "      <th>...</th>\n",
       "      <td>...</td>\n",
       "      <td>...</td>\n",
       "    </tr>\n",
       "    <tr>\n",
       "      <th>244</th>\n",
       "      <td>2019-08-27</td>\n",
       "      <td>109.06</td>\n",
       "    </tr>\n",
       "    <tr>\n",
       "      <th>245</th>\n",
       "      <td>2019-08-28</td>\n",
       "      <td>109.28</td>\n",
       "    </tr>\n",
       "    <tr>\n",
       "      <th>246</th>\n",
       "      <td>2019-08-29</td>\n",
       "      <td>110.30</td>\n",
       "    </tr>\n",
       "    <tr>\n",
       "      <th>247</th>\n",
       "      <td>2019-08-30</td>\n",
       "      <td>111.00</td>\n",
       "    </tr>\n",
       "    <tr>\n",
       "      <th>248</th>\n",
       "      <td>2019-09-02</td>\n",
       "      <td>111.68</td>\n",
       "    </tr>\n",
       "  </tbody>\n",
       "</table>\n",
       "<p>249 rows × 2 columns</p>\n",
       "</div>"
      ],
      "text/plain": [
       "         Dates   Price\n",
       "0   2018-09-03   81.50\n",
       "1   2018-09-04   80.50\n",
       "2   2018-09-05   79.90\n",
       "3   2018-09-06   79.96\n",
       "4   2018-09-07   80.24\n",
       "..         ...     ...\n",
       "244 2019-08-27  109.06\n",
       "245 2019-08-28  109.28\n",
       "246 2019-08-29  110.30\n",
       "247 2019-08-30  111.00\n",
       "248 2019-09-02  111.68\n",
       "\n",
       "[249 rows x 2 columns]"
      ]
     },
     "execution_count": 11,
     "metadata": {},
     "output_type": "execute_result"
    }
   ],
   "source": [
    "data_nesn"
   ]
  },
  {
   "cell_type": "code",
   "execution_count": 13,
   "metadata": {},
   "outputs": [],
   "source": [
    "P = data_nesn['Price']"
   ]
  },
  {
   "cell_type": "code",
   "execution_count": 14,
   "metadata": {},
   "outputs": [
    {
     "data": {
      "image/png": "[encoded data removed]",
      "text/plain": [
       "<Figure size 432x288 with 1 Axes>"
      ]
     },
     "metadata": {
      "needs_background": "light"
     },
     "output_type": "display_data"
    }
   ],
   "source": [
    "# look at the price history of Nestle\n",
    "plt.plot(data_nesn['Dates'],P); plt.xlabel('Date'); plt.ylabel('Price');"
   ]
  },
  {
   "cell_type": "code",
   "execution_count": 15,
   "metadata": {},
   "outputs": [],
   "source": [
    "#Compute log return\n",
    "R = np.log(np.asarray(P[1:])/np.asarray(P[0:-1]))"
   ]
  },
  {
   "cell_type": "markdown",
   "metadata": {},
   "source": [
    "**Prepare for the bootstrap.**"
   ]
  },
  {
   "cell_type": "code",
   "execution_count": null,
   "metadata": {},
   "outputs": [],
   "source": [
    "s0 = 111.34; X = 110; r = -0.0088; # inital fixing, strike of the call, risk-free\n",
    "T = np.int(yf((3,9,2019),[(15,11,2019)])[0]*360) # number of days 'til expiry of the call\n",
    "B = 5*10**6; ST = np.zeros(B) # number of bootstrap samples"
   ]
  },
  {
   "cell_type": "code",
   "execution_count": null,
   "metadata": {},
   "outputs": [],
   "source": [
    "# bootstrap via for-loop\n",
    "# note: np.random.randint(n,size=(1,T)) draws uniformly T integers from the set {0,1,..,n-1} with replacement\n",
    "t = time.time()\n",
    "for j in range(0,B):\n",
    "    idx = np.random.randint(len(R),size=(1,T))\n",
    "    ST[j] = s0*np.exp(np.sum(R[idx])) # the price of the underlying at expiry\n",
    "\n",
    "V = np.exp(-r*T/360)*np.mean(np.maximum(ST-X,0)) # average the cash flows of the call at expiry and discount\n",
    "elapsed = time.time() - t\n",
    "V, elapsed"
   ]
  },
  {
   "cell_type": "code",
   "execution_count": null,
   "metadata": {},
   "outputs": [],
   "source": [
    "# repeat the above, but without a for-loop: this is (much) faster, but requires (much) more memory ...\n",
    "t = time.time()\n",
    "idx = np.random.randint(len(R),size=(B,T))\n",
    "ST = s0*np.exp(np.sum(R[idx],axis=1))\n",
    "V = np.exp(-r*T/360)*np.mean(np.maximum(ST-X,0))\n",
    "elapsed = time.time() - t\n",
    "V, elapsed"
   ]
  },
  {
   "cell_type": "markdown",
   "metadata": {},
   "source": [
    "The model-free price $V^B\\approx 12.72$ is completely different from the market price! To see why, recall that the exponent $\\sum_{k=1}^Tr_k^{c,\\ast b}$ is - under the iid assumption and for $T$ large enough - normally distributed $\\mathcal{N}(\\mu,\\sigma^2)$. Hence, estimate $\\mu$ and $\\sigma$ ..."
   ]
  },
  {
   "cell_type": "code",
   "execution_count": null,
   "metadata": {},
   "outputs": [],
   "source": [
    "RT = np.sum(R[idx],axis=1); # the sum in the exponent\n",
    "args_n = st.norm.fit(RT) # fit to a normal distribution to obtain mu and sigma\n",
    "mu = args_n[0]; sigma = args_n[1]\n",
    "mu, sigma"
   ]
  },
  {
   "cell_type": "code",
   "execution_count": null,
   "metadata": {},
   "outputs": [],
   "source": [
    "# check graphically the normality\n",
    "plt.hist(RT,bins=100,density=True);\n",
    "x = np.arange(-0.3,0.4,0.001)\n",
    "plt.plot(x,st.norm.pdf(x,*args_n));"
   ]
  },
  {
   "cell_type": "markdown",
   "metadata": {},
   "source": [
    "We might also directly fit the final stock price  𝑠𝑇  to a lognormal distribution"
   ]
  },
  {
   "cell_type": "code",
   "execution_count": null,
   "metadata": {},
   "outputs": [],
   "source": [
    "argsln = st.lognorm.fit(ST,floc=0)\n",
    "argsln"
   ]
  },
  {
   "cell_type": "markdown",
   "metadata": {},
   "source": [
    "Note that the first argument of \"argsln\" is equal to  𝜎  from above, whereas the third argument is equal to  𝑠0𝑒𝜇 :"
   ]
  },
  {
   "cell_type": "code",
   "execution_count": null,
   "metadata": {},
   "outputs": [],
   "source": [
    "s0*np.exp(mu)"
   ]
  },
  {
   "cell_type": "code",
   "execution_count": null,
   "metadata": {},
   "outputs": [],
   "source": [
    "np.mean(ST), s0*np.exp(mu+sigma**2/2)"
   ]
  },
  {
   "cell_type": "code",
   "execution_count": null,
   "metadata": {},
   "outputs": [],
   "source": [
    "# graphical output\n",
    "number_of_paths = 20; ymin = 90; ymax = 160;\n",
    "t = np.arange(0,(T+1)/360,1/360)\n",
    "x = np.arange(ymin,ymax,0.01)\n",
    "\n",
    "fig = plt.figure(1)\n",
    "gridspec.GridSpec(1,10)\n",
    "ax1 = plt.subplot2grid((1,10), (0,0), colspan=6, rowspan=1)\n",
    "\n",
    "for j in range(0,number_of_paths):\n",
    "    idx = np.random.randint(len(R), size=(1,T))\n",
    "    ax1.plot(t,np.hstack((s0,s0*np.exp(np.cumsum(R[idx])))));\n",
    "    \n",
    "plt.xlabel('t'); plt.ylabel('$S_t$');\n",
    "ax1.set_ylim([ymin,ymax])\n",
    "ax2 = plt.subplot2grid((1,10), (0,6),colspan=4, rowspan=1)\n",
    "ax2.hist(ST, bins=100, orientation=\"horizontal\",density=True);\n",
    "#ax2.plot(st.lognorm.pdf(x,*argsln),x)\n",
    "fln = lambda x: 1/(argsln[0]*x*np.sqrt(2*np.pi))*np.exp(-(np.log(x)-np.log(argsln[2]))**2/(2*argsln[0]**2))\n",
    "ax2.plot(fln(x),x)\n",
    "ax2.set_ylim([ymin,ymax])\n",
    "ax2.axes.get_yaxis().set_visible(False)\n",
    "plt.xlabel('density of $s_T$');\n",
    "fig.tight_layout()"
   ]
  },
  {
   "cell_type": "code",
   "execution_count": null,
   "metadata": {},
   "outputs": [],
   "source": [
    "# the pricing formula above as function of mu\n",
    "d = lambda x:(np.log(s0/X)+x)/sigma\n",
    "Vc = lambda x:np.exp(-r*T/360)*(s0*np.exp(x+sigma**2/2)*st.norm.cdf(d(x)+sigma)-X*st.norm.cdf(d(x)))\n",
    "Vc(mu)"
   ]
  },
  {
   "cell_type": "markdown",
   "metadata": {},
   "source": [
    "For the data above we find $V_c\\approx 12.70$ CHF, which is of course close to the value $V^B$ obtained from the bootstrap. So, if the stock price at maturity is indeed lognormal (such that the above \"pricing formula\" is correct), then we obviously plugged in the wrong values for the parameters $\\mu$ and/or $\\sigma$ (as we should have obtained the market value $V^\\textrm{M}=3.72$ CHF). To simplify things, assume that the (historical) volatility estimated above is the correct value for $\\sigma$. Under this assumption, the only parameter which we plugged in wrongly into the above formula is $\\mu$. The natural question is then: What value $\\mu$ must attain such that the price $V_c$ (or equivalently, the price $V^B$) is equal to the market price $V^\\textrm{M}=3.72$ CHF? \n",
    "\n",
    "To answer this question, we just solve the above \"pricing formula\" for $\\mu$"
   ]
  },
  {
   "cell_type": "code",
   "execution_count": null,
   "metadata": {},
   "outputs": [],
   "source": [
    "VM = 3.72\n",
    "mu_match = fsolve(lambda x:Vc(x)-VM,0.0)[0]\n",
    "mu_match"
   ]
  },
  {
   "cell_type": "code",
   "execution_count": null,
   "metadata": {},
   "outputs": [],
   "source": []
  }
 ],
 "metadata": {
  "kernelspec": {
   "display_name": "display-name",
   "language": "python",
   "name": "m2dm"
  },
  "language_info": {
   "codemirror_mode": {
    "name": "ipython",
    "version": 3
   },
   "file_extension": ".py",
   "mimetype": "text/x-python",
   "name": "python",
   "nbconvert_exporter": "python",
   "pygments_lexer": "ipython3",
   "version": "3.9.5"
  }
 },
 "nbformat": 4,
 "nbformat_minor": 4
}
