{
 "cells": [
  {
   "cell_type": "markdown",
   "id": "8e856b40",
   "metadata": {},
   "source": [
    "## 2. Continuous time model: the geometric Brownian motion"
   ]
  },
  {
   "cell_type": "code",
   "execution_count": null,
   "id": "bf86f6b4",
   "metadata": {},
   "outputs": [],
   "source": [
    "# import all stuff we will need\n",
    "import numpy as np\n",
    "from mpl_toolkits import mplot3d\n",
    "import matplotlib.pyplot as plt\n",
    "import matplotlib.gridspec as gridspec\n",
    "import scipy.stats as st\n",
    "\n",
    "from numpy.random import randn\n",
    "from gbm_d import gbm_d"
   ]
  },
  {
   "cell_type": "markdown",
   "id": "34542605",
   "metadata": {},
   "source": [
    "### 2.1. Generating paths of a geometric Brownian motion"
   ]
  },
  {
   "cell_type": "code",
   "execution_count": null,
   "id": "09f3d51e",
   "metadata": {},
   "outputs": [],
   "source": [
    "n = 200; N = 10; # n number of time points, N number of paths\n",
    "s0 = 2; sigma = 0.2; mu = 0.1; T = 1; # parameters of geometric Brownian motion\n",
    "\n",
    "dt = T/n; tj = np.arange(dt,T+dt,dt); \n",
    "tj = np.reshape(np.asarray(tj),[n,1]); t = np.vstack((0.0,tj))    \n",
    "\n",
    "Z = randn(N,n); X = np.cumsum(Z,axis=1)\n",
    "\n",
    "s = s0*np.exp((mu-0.5*sigma**2)*tj+sigma*np.sqrt(dt)*X.T) # the stock prices at tj\n",
    "s0 = np.repeat(s0,N); s = np.vstack((np.asarray(s0),s)) # the stock prices at tj, including s0\n",
    "\n",
    "plt.plot(t,s); # plot all the paths\n",
    "plt.plot(t,s0[0]*np.exp(mu*t),'k-'); # plot the expectation of St\n",
    "plt.xlabel('$t$'); plt.ylabel('$S_t$');"
   ]
  },
  {
   "cell_type": "markdown",
   "id": "5fb0670b",
   "metadata": {},
   "source": [
    "### 2.2. Multivariate geometric Brownian motion"
   ]
  },
  {
   "cell_type": "markdown",
   "id": "aa74cc26",
   "metadata": {},
   "source": [
    "An \"obvious way\" to generalise the geometric Browian motion to multiple underlyings is to consider the $d$ stochastic differential equations\n",
    "\n",
    "\\begin{equation*}\n",
    "{\\rm d}S^i_t=\\mu_iS^i_t{\\rm d}t+\\sigma_iS^i_t{\\rm d}\\widehat{W}^i_t,\\quad S_0^i=s_i>0\n",
    "\\end{equation*}\n",
    "\n",
    "with solution \n",
    "\n",
    "\\begin{equation*}\n",
    "S^i_t=s_ie^{(\\mu_i-\\frac{1}{2}\\sigma_i^2)t+\\sigma_i\\widehat{W}^i_t}\\;.\n",
    "\\end{equation*}\n",
    "\n",
    "The Brownian motions $\\widehat{W}^i_t$ are not independent but have the covariance/correlation matrix $\\boldsymbol{\\rho}=(\\rho_{ij})$; details are given in the script.\n",
    "\n",
    "The function <span style=\"color:orange\">gbm_d.py</span> generates one path of $\\textbf{S}_t:=(S_t^1,S_t^2,\\ldots,S_t^d)$ for time points $t\\in\\{t_1,t_2,\\ldots,t_n\\}$. The function is described in the technical note in section 2.8 below. "
   ]
  },
  {
   "cell_type": "markdown",
   "id": "51b25d8b",
   "metadata": {},
   "source": [
    "The function <span style=\"color:orange\">gbm_d(s0,mu,Sigma,Tau,T,dt)</span> gives one path of a $d$-dimensional geometric Brownian motion, i.e.,\n",
    "\n",
    "\\begin{equation*}\n",
    "S^i_t=s_ie^{(\\mu_i-\\frac{1}{2}\\sigma_i^2)t+\\sigma_i\\widehat{W}^i_t}\n",
    "\\end{equation*}\n",
    "\n",
    "at time points defined in $\\mathcal{T} =\\{t_1,\\ldots,t_n\\}$. If $\\mathcal{T}$ is empty then $t_j = j\\textrm{d}t$, $j=1,\\ldots,\\frac{T}{\\textrm{d}t}$. \n",
    "\n",
    "For the construction of the correlated Brownian motions $\\widehat{W}^i_t$, $i=1,\\ldots,d$ see the script."
   ]
  },
  {
   "cell_type": "code",
   "execution_count": null,
   "id": "49612939",
   "metadata": {},
   "outputs": [],
   "source": [
    "# %load gbm_d.py\n",
    "import numpy as np\n",
    "from numpy.random import randn\n",
    "\n",
    "def gbm_d(s0,mu,Sigma,Tau,T,dt):\n",
    "    '''S,t = gbm_d(s0,mu,Sigma,Tau,T,dt) simulates one path of a d-dimensional \n",
    "       geometric Brownian motion \n",
    "       \n",
    "       S = [S_0,S_t1,S_t2,...,S_T]\n",
    "       \n",
    "       at the time points specified in the list Tau = [t1,t2,...,T]. Each S_tj\n",
    "       is a (row) array of length d (the GBM evaluated at tj).\n",
    "       If Tau = [] is empty, the time points are evenly spaced, tj = j*dt, \n",
    "       with time step dt.\n",
    "       \n",
    "       s0 is a list of length d containing the initital values, mu is list of\n",
    "       length d containing the drifts Sigma is the d-times-d covariance matrix.\n",
    "       \n",
    "       Example:\n",
    "       s0 = [234,67]; mu = [0.037,0.027]\n",
    "       Sigma = np.array([[0.18**2,0.18*0.15*0.68],[0.18*0.15*0.68,0.15**2]])\n",
    "       S,t = gbm_d(s0,mu,Sigma,Tau,T,dt)\n",
    "       plt.plot(S[:,0],S[:,1])\n",
    "    '''\n",
    "    \n",
    "    if not Tau: # Tau is empty: we use evenly spaced time points in ]0,T]\n",
    "        t = np.arange(dt,T+dt,dt);\n",
    "    else: # Tau is not empty:\n",
    "        t = Tau\n",
    "    \n",
    "    d = len(s0); n = len(t) # the dimensions\n",
    "    \n",
    "    # convert to arrays \n",
    "    s0 = np.reshape(np.asarray(s0),[1,d]) \n",
    "    mu = np.reshape(np.asarray(mu),[1,d])\n",
    "    t = np.reshape(np.asarray(t),[n,1])\n",
    "    t0 = np.vstack((0.0,t))\n",
    "     \n",
    "    L = np.linalg.cholesky(Sigma) # the Cholesky decomposition\n",
    "    Z = randn(d,n); \n",
    "    sqrtDT = np.repeat(np.sqrt(np.diff(t0.T)),d,axis=0)\n",
    "\n",
    "    X = np.cumsum(sqrtDT*Z,axis=1)\n",
    "    A = np.repeat((mu-0.5*np.diag(Sigma)),n,axis=0)\n",
    "    T = np.repeat(t,d,axis=1); S0 = np.repeat(s0,n,axis=0)\n",
    "    S = S0*np.exp(A*T+np.matmul(L,X).T); S = np.vstack((s0,S));\n",
    "    \n",
    "    return S,t0"
   ]
  },
  {
   "cell_type": "code",
   "execution_count": null,
   "id": "d213b2ac",
   "metadata": {},
   "outputs": [],
   "source": [
    "s0 = [234,67]; mu = [0.037,0.027]\n",
    "sigma = np.diag([0.18,0.15]); rho = np.array([[1,0.68],[0,1]]); \n",
    "rho = rho+rho.T-np.eye(2); Sigma = sigma.dot(rho).dot(sigma)\n",
    "S,t = gbm_d(s0,mu,Sigma,[],1,1/(4*252))\n",
    "plt.plot(S[:,0],S[:,1]);\n",
    "plt.plot(s0[0],s0[1],'ko'); plt.plot(S[-1,0],S[-1,1],'ro'); # starting and ending point\n",
    "plt.xlabel('$S_t^1$'); plt.ylabel('$S_t^2$');"
   ]
  },
  {
   "cell_type": "markdown",
   "id": "9a9a2da9",
   "metadata": {},
   "source": [
    "Now, plot the graphs $t\\mapsto S_t^i$."
   ]
  },
  {
   "cell_type": "code",
   "execution_count": null,
   "id": "926c921c",
   "metadata": {},
   "outputs": [],
   "source": [
    "plt.plot(t,S); plt.xlabel('$t$'); plt.ylabel('$S_t$')\n",
    "plt.legend(('stock 1','£stock 2'));"
   ]
  },
  {
   "cell_type": "markdown",
   "id": "7a5189cf",
   "metadata": {},
   "source": [
    "To better compare the two stocks, we normalize them, i.e., we consider the graphs $t\\mapsto\\frac{S_t^i}{S_0^i}$."
   ]
  },
  {
   "cell_type": "code",
   "execution_count": null,
   "id": "767ae7b0",
   "metadata": {},
   "outputs": [],
   "source": [
    "plt.plot(t,S/np.asarray(s0)); plt.xlabel('$t$'); plt.ylabel('$S_t/S_0$')\n",
    "plt.legend(('stock 1','stock 2'));"
   ]
  },
  {
   "cell_type": "code",
   "execution_count": null,
   "id": "b459645e",
   "metadata": {},
   "outputs": [],
   "source": [
    "s0 = [70,80,263]; mu = [0.03,0.05,0.02];\n",
    "sigma = np.diag([0.1,0.2,0.4]); \n",
    "rho = np.array([[1,0.8,-0.5],[0,1,-0.7],[0,0,1]]); \n",
    "rho = rho+rho.T-np.eye(3); Sigma = sigma.dot(rho).dot(sigma)\n",
    "S,t = gbm_d(s0,mu,Sigma,[],1,1/(2*252))\n",
    "\n",
    "ax = plt.axes(projection='3d')\n",
    "\n",
    "ax.scatter3D(S[0,0],S[0,1],S[0,2],c='k',marker='.',s=100); # starting point is black\n",
    "ax.scatter3D(S[-1,0],S[-1,1],S[-1,2],c='r',marker='.',s=100); # ending point is red\n",
    "ax.plot3D(S[:,0],S[:,1],S[:,2]);\n",
    "ax.set_xlabel('$S_t^1$'), ax.set_ylabel('$S_t^2$'), ax.set_zlabel('$S_t^3$');"
   ]
  },
  {
   "cell_type": "code",
   "execution_count": null,
   "id": "a827b628",
   "metadata": {},
   "outputs": [],
   "source": [
    "plt.plot(t,S/np.asarray(s0)); plt.xlabel('$t$'); plt.ylabel('$S_t/S_0$')\n",
    "plt.legend(('stock 1','stock 2','stock 3'));"
   ]
  }
 ],
 "metadata": {
  "kernelspec": {
   "display_name": "display-name",
   "language": "python",
   "name": "m2dm"
  },
  "language_info": {
   "codemirror_mode": {
    "name": "ipython",
    "version": 3
   },
   "file_extension": ".py",
   "mimetype": "text/x-python",
   "name": "python",
   "nbconvert_exporter": "python",
   "pygments_lexer": "ipython3",
   "version": "3.9.5"
  }
 },
 "nbformat": 4,
 "nbformat_minor": 5
}
